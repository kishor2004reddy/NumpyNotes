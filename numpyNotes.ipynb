{
 "cells": [
  {
   "cell_type": "code",
   "execution_count": 1,
   "id": "7d3f988d-c49a-4e96-a242-de839f1b5c00",
   "metadata": {},
   "outputs": [],
   "source": [
    "# importing Library\n",
    "\n",
    "import numpy as np"
   ]
  },
  {
   "cell_type": "markdown",
   "id": "d5939abf-65ed-481a-919e-3210ac81a142",
   "metadata": {},
   "source": [
    "There are 6 ways to create arrays in numpy\n",
    "1. Conversion from other Python structures (i.e. lists and tuples)\n",
    "2. Intrinsic NumPy array creation functions (e.g. arange, ones, zeros, etc.)\n",
    "3. Replicating, joining, or mutating existing arrays\n",
    "4. Reading arrays from disk, either from standard or custom formats\n",
    "5. Creating arrays from raw bytes through the use of strings or buffers\n",
    "6. Use of special library functions (e.g., random)"
   ]
  },
  {
   "cell_type": "markdown",
   "id": "271dda50-0362-485d-8c69-17529b475095",
   "metadata": {},
   "source": [
    "Conversion from other Python structures (i.e. lists and tuples)"
   ]
  },
  {
   "cell_type": "code",
   "execution_count": 2,
   "id": "66216e61-394c-4519-8a7d-8f657e4fbd52",
   "metadata": {},
   "outputs": [
    {
     "name": "stdout",
     "output_type": "stream",
     "text": [
      "[[[1 2]\n",
      "  [3 4]]\n",
      "\n",
      " [[5 6]\n",
      "  [7 8]]]\n"
     ]
    }
   ],
   "source": [
    "a = np.array([1,2,3])   # 1D\n",
    "b = np.array([[1,2,3], [4,5,6]])   # 2D\n",
    "c = np.array([[[1,2], [3,4]], [[5,6],[7,8]]])   # 3D\n",
    "# print(a)\n",
    "# print(b)\n",
    "print(c)"
   ]
  },
  {
   "cell_type": "code",
   "execution_count": 3,
   "id": "8f48a9de-a871-4ed4-bf47-9cf8e37755b1",
   "metadata": {},
   "outputs": [
    {
     "name": "stdout",
     "output_type": "stream",
     "text": [
      "[22. 33. 56.]\n"
     ]
    }
   ],
   "source": [
    "a = np.array((22,33,56), dtype = float)\n",
    "print(a)"
   ]
  },
  {
   "cell_type": "markdown",
   "id": "249cf2d5-371e-41f1-9ccf-f404d34b3a2a",
   "metadata": {},
   "source": [
    "Intrinsic NumPy array creation functions (e.g. arange, ones, zeros, etc.)"
   ]
  },
  {
   "cell_type": "code",
   "execution_count": 4,
   "id": "b6345bbc-f020-4991-b9db-1103a706170a",
   "metadata": {},
   "outputs": [
    {
     "data": {
      "text/plain": [
       "array([ 0,  2,  4,  6,  8, 10])"
      ]
     },
     "execution_count": 4,
     "metadata": {},
     "output_type": "execute_result"
    }
   ],
   "source": [
    "# arange creates array with regularly incrementing values\n",
    "a = np.arange(0,11,2)\n",
    "a"
   ]
  },
  {
   "cell_type": "code",
   "execution_count": 5,
   "id": "53caebcb-0407-4fd2-94e2-7bb2aa1af1a2",
   "metadata": {},
   "outputs": [
    {
     "name": "stdout",
     "output_type": "stream",
     "text": [
      "[[ 0  2]\n",
      " [ 4  6]\n",
      " [ 8 10]]\n"
     ]
    }
   ],
   "source": [
    "#reshape changes the dimensions\n",
    "a = a.reshape((3,2))\n",
    "print(a)"
   ]
  },
  {
   "cell_type": "code",
   "execution_count": 6,
   "id": "7b7e8361-9d1a-4985-aea2-8ab55ae88dec",
   "metadata": {
    "scrolled": true
   },
   "outputs": [
    {
     "data": {
      "text/plain": [
       "array([[[0, 1],\n",
       "        [2, 3]],\n",
       "\n",
       "       [[4, 5],\n",
       "        [6, 7]]])"
      ]
     },
     "execution_count": 6,
     "metadata": {},
     "output_type": "execute_result"
    }
   ],
   "source": [
    "np.arange(8).reshape(2,2,2)"
   ]
  },
  {
   "cell_type": "code",
   "execution_count": 7,
   "id": "b2ee78b2-6355-4f9c-a742-8f211db30c35",
   "metadata": {},
   "outputs": [
    {
     "data": {
      "text/plain": [
       "array([[1., 1., 1.],\n",
       "       [1., 1., 1.],\n",
       "       [1., 1., 1.]])"
      ]
     },
     "execution_count": 7,
     "metadata": {},
     "output_type": "execute_result"
    }
   ],
   "source": [
    "# ones creates array with ones\n",
    "a = np.ones((3,3))\n",
    "a"
   ]
  },
  {
   "cell_type": "code",
   "execution_count": 8,
   "id": "d4b1e102-f76a-4c62-9edc-786f147d9390",
   "metadata": {},
   "outputs": [
    {
     "name": "stdout",
     "output_type": "stream",
     "text": [
      "[[1 1 1]\n",
      " [1 1 1]\n",
      " [1 1 1]]\n"
     ]
    }
   ],
   "source": [
    "a = np.ones((3,3), dtype = np.int8)\n",
    "print(a)"
   ]
  },
  {
   "cell_type": "code",
   "execution_count": 9,
   "id": "98fba474-2c92-4231-b499-f6298de82a7f",
   "metadata": {},
   "outputs": [
    {
     "data": {
      "text/plain": [
       "array([0, 0, 0, 0, 0], dtype=int16)"
      ]
     },
     "execution_count": 9,
     "metadata": {},
     "output_type": "execute_result"
    }
   ],
   "source": [
    "a = np.zeros((5,), dtype = np.int16)\n",
    "a"
   ]
  },
  {
   "cell_type": "code",
   "execution_count": 10,
   "id": "a140853d-5dda-4974-8161-e160cccd1d59",
   "metadata": {},
   "outputs": [
    {
     "data": {
      "text/plain": [
       "array([[0.1509758 , 0.10912513, 0.8045441 ],\n",
       "       [0.77069155, 0.63613055, 0.66031364],\n",
       "       [0.94744736, 0.46418219, 0.71185184]])"
      ]
     },
     "execution_count": 10,
     "metadata": {},
     "output_type": "execute_result"
    }
   ],
   "source": [
    "a = np.random.random((3,3))\n",
    "a"
   ]
  },
  {
   "cell_type": "code",
   "execution_count": 11,
   "id": "64e5ed0a-842f-40a6-86f4-f9bbde576847",
   "metadata": {},
   "outputs": [
    {
     "data": {
      "text/plain": [
       "array([[49, 95, 76],\n",
       "       [80, 64, 21],\n",
       "       [23, 62, 68]])"
      ]
     },
     "execution_count": 11,
     "metadata": {},
     "output_type": "execute_result"
    }
   ],
   "source": [
    "# Creating random array of integers\n",
    "a = np.random.random((3,3))*100\n",
    "a = a.astype(np.int32)\n",
    "a"
   ]
  },
  {
   "cell_type": "markdown",
   "id": "870290b5-3118-4ea8-9409-ea6e9e4ad947",
   "metadata": {},
   "source": [
    "linspace will create arrays with a specified number of elements, and spaced equally between the specified beginning and end values"
   ]
  },
  {
   "cell_type": "code",
   "execution_count": 12,
   "id": "f9e9e313-a40a-42f2-b816-bfcd124dacfe",
   "metadata": {},
   "outputs": [
    {
     "name": "stdout",
     "output_type": "stream",
     "text": [
      "[ 2.  4.  6.  8. 10. 12. 14. 16. 18. 20.]\n"
     ]
    }
   ],
   "source": [
    "# This gives 10 values equally spaced from 2 to 20 both included\n",
    "a = np.linspace(2,20,10)\n",
    "print(a)"
   ]
  },
  {
   "cell_type": "code",
   "execution_count": 13,
   "id": "8bb410fe-e14f-4f53-95a4-9f9091b82d0b",
   "metadata": {
    "scrolled": true
   },
   "outputs": [
    {
     "name": "stdout",
     "output_type": "stream",
     "text": [
      "[[1. 0. 0.]\n",
      " [0. 1. 0.]\n",
      " [0. 0. 1.]]\n"
     ]
    }
   ],
   "source": [
    "# CREATING 2D and 3D arrays\n",
    "a = np.identity(3)\n",
    "print(a)"
   ]
  },
  {
   "cell_type": "code",
   "execution_count": 14,
   "id": "2831b291-6d93-4968-81c8-bb55f6d22f1b",
   "metadata": {},
   "outputs": [
    {
     "data": {
      "text/plain": [
       "array([[1., 0., 0., 0.],\n",
       "       [0., 1., 0., 0.],\n",
       "       [0., 0., 1., 0.]])"
      ]
     },
     "execution_count": 14,
     "metadata": {},
     "output_type": "execute_result"
    }
   ],
   "source": [
    "np.eye(3,4)"
   ]
  },
  {
   "cell_type": "code",
   "execution_count": 15,
   "id": "1b9cffb6-2b59-49a4-b96b-b51fa499ec71",
   "metadata": {},
   "outputs": [
    {
     "data": {
      "text/plain": [
       "array([[1, 0, 0],\n",
       "       [0, 2, 0],\n",
       "       [0, 0, 3]])"
      ]
     },
     "execution_count": 15,
     "metadata": {},
     "output_type": "execute_result"
    }
   ],
   "source": [
    "np.diag([1,2,3])"
   ]
  },
  {
   "cell_type": "code",
   "execution_count": 16,
   "id": "7432a739-bb14-4cdc-88e2-8a76e05c074f",
   "metadata": {},
   "outputs": [
    {
     "data": {
      "text/plain": [
       "array([[0, 0, 0, 0],\n",
       "       [1, 0, 0, 0],\n",
       "       [0, 2, 0, 0],\n",
       "       [0, 0, 3, 0]])"
      ]
     },
     "execution_count": 16,
     "metadata": {},
     "output_type": "execute_result"
    }
   ],
   "source": [
    "np.diag([1,2,3], -1)"
   ]
  },
  {
   "cell_type": "code",
   "execution_count": 17,
   "id": "40ba3e8e-3fea-408a-9c77-1f3af9617c11",
   "metadata": {},
   "outputs": [
    {
     "data": {
      "text/plain": [
       "array([[0, 1, 0, 0],\n",
       "       [0, 0, 2, 0],\n",
       "       [0, 0, 0, 3],\n",
       "       [0, 0, 0, 0]])"
      ]
     },
     "execution_count": 17,
     "metadata": {},
     "output_type": "execute_result"
    }
   ],
   "source": [
    "np.diag([1,2,3], 1)"
   ]
  },
  {
   "cell_type": "code",
   "execution_count": 18,
   "id": "992b4d3a-5168-49fa-864e-3b4455273a36",
   "metadata": {},
   "outputs": [
    {
     "data": {
      "text/plain": [
       "array([[0, 1, 2],\n",
       "       [3, 4, 5],\n",
       "       [6, 7, 8]])"
      ]
     },
     "execution_count": 18,
     "metadata": {},
     "output_type": "execute_result"
    }
   ],
   "source": [
    "a = np.arange(9).reshape(3,3)\n",
    "a"
   ]
  },
  {
   "cell_type": "code",
   "execution_count": 19,
   "id": "39390848-dd0d-4a3a-b1b0-daa874e9b53d",
   "metadata": {},
   "outputs": [
    {
     "data": {
      "text/plain": [
       "array([0, 4, 8])"
      ]
     },
     "execution_count": 19,
     "metadata": {},
     "output_type": "execute_result"
    }
   ],
   "source": [
    "np.diag(a)"
   ]
  },
  {
   "cell_type": "code",
   "execution_count": 20,
   "id": "52d8bb15-30ac-4b76-a3c5-3ff4c6b0d273",
   "metadata": {},
   "outputs": [
    {
     "data": {
      "text/plain": [
       "array([[ 1,  1,  1,  1],\n",
       "       [ 8,  4,  2,  1],\n",
       "       [27,  9,  3,  1],\n",
       "       [64, 16,  4,  1]])"
      ]
     },
     "execution_count": 20,
     "metadata": {},
     "output_type": "execute_result"
    }
   ],
   "source": [
    "# vander(x, n) defines a Vandermonde matrix as a 2D NumPy array.\n",
    "# Each column of the Vandermonde matrix is a decreasing power of the input 1D array or list or tuple,\n",
    "# x where the highest polynomial order is n-1\n",
    "\n",
    "np.vander([1,2,3,4], 4)\n"
   ]
  },
  {
   "cell_type": "code",
   "execution_count": 21,
   "id": "939434b0-fa8c-4317-8f46-eca93bc4785e",
   "metadata": {},
   "outputs": [
    {
     "data": {
      "text/plain": [
       "array([[[0, 0, 0],\n",
       "        [1, 1, 1],\n",
       "        [2, 2, 2]],\n",
       "\n",
       "       [[0, 1, 2],\n",
       "        [0, 1, 2],\n",
       "        [0, 1, 2]]])"
      ]
     },
     "execution_count": 21,
     "metadata": {},
     "output_type": "execute_result"
    }
   ],
   "source": [
    "np.indices((3,3))"
   ]
  },
  {
   "cell_type": "markdown",
   "id": "f8866b2c-881d-466d-9f8c-fb33feb1d17f",
   "metadata": {},
   "source": [
    "### Array Attributes"
   ]
  },
  {
   "cell_type": "code",
   "execution_count": 22,
   "id": "45fe24c0-6b8e-45ed-84d8-9bfc2ffc8150",
   "metadata": {},
   "outputs": [
    {
     "name": "stdout",
     "output_type": "stream",
     "text": [
      "[[[0 1]\n",
      "  [2 3]]\n",
      "\n",
      " [[4 5]\n",
      "  [6 7]]]\n"
     ]
    }
   ],
   "source": [
    "a = np.arange(8, dtype = np.int8).reshape(2,2,2)\n",
    "print(a)"
   ]
  },
  {
   "cell_type": "code",
   "execution_count": 23,
   "id": "998128c6-8fed-4d84-b48a-3c076c9fc6d3",
   "metadata": {},
   "outputs": [
    {
     "data": {
      "text/plain": [
       "3"
      ]
     },
     "execution_count": 23,
     "metadata": {},
     "output_type": "execute_result"
    }
   ],
   "source": [
    "a.ndim"
   ]
  },
  {
   "cell_type": "code",
   "execution_count": 24,
   "id": "8e039bda-048d-4f1e-8376-deb848b659a9",
   "metadata": {},
   "outputs": [
    {
     "data": {
      "text/plain": [
       "(2, 2, 2)"
      ]
     },
     "execution_count": 24,
     "metadata": {},
     "output_type": "execute_result"
    }
   ],
   "source": [
    "a.shape"
   ]
  },
  {
   "cell_type": "code",
   "execution_count": 25,
   "id": "c976e9f7-1a11-49e9-8a3d-6a1bbc0dba16",
   "metadata": {},
   "outputs": [
    {
     "data": {
      "text/plain": [
       "dtype('int8')"
      ]
     },
     "execution_count": 25,
     "metadata": {},
     "output_type": "execute_result"
    }
   ],
   "source": [
    "a.dtype"
   ]
  },
  {
   "cell_type": "code",
   "execution_count": 26,
   "id": "284fa3d7-2f9e-4ac8-b718-3c6bbfe19e20",
   "metadata": {},
   "outputs": [
    {
     "data": {
      "text/plain": [
       "8"
      ]
     },
     "execution_count": 26,
     "metadata": {},
     "output_type": "execute_result"
    }
   ],
   "source": [
    "a.size"
   ]
  },
  {
   "cell_type": "code",
   "execution_count": 27,
   "id": "95f98dfd-5ce5-4a6b-9783-13d9e0db60f6",
   "metadata": {},
   "outputs": [
    {
     "data": {
      "text/plain": [
       "1"
      ]
     },
     "execution_count": 27,
     "metadata": {},
     "output_type": "execute_result"
    }
   ],
   "source": [
    "a.itemsize"
   ]
  },
  {
   "cell_type": "markdown",
   "id": "066f7828-90de-45a3-8dc6-8e96e909e873",
   "metadata": {},
   "source": [
    "### Changing Data Type"
   ]
  },
  {
   "cell_type": "code",
   "execution_count": 28,
   "id": "3543c967-3f66-4c5a-aec2-b4362f7ad043",
   "metadata": {},
   "outputs": [
    {
     "data": {
      "text/plain": [
       "array([[[0, 1],\n",
       "        [2, 3]],\n",
       "\n",
       "       [[4, 5],\n",
       "        [6, 7]]])"
      ]
     },
     "execution_count": 28,
     "metadata": {},
     "output_type": "execute_result"
    }
   ],
   "source": [
    "a = a.astype(np.int32)\n",
    "a"
   ]
  },
  {
   "cell_type": "code",
   "execution_count": 29,
   "id": "8a4434db-0939-448d-aafc-7124ea51b6ae",
   "metadata": {},
   "outputs": [
    {
     "data": {
      "text/plain": [
       "dtype('int32')"
      ]
     },
     "execution_count": 29,
     "metadata": {},
     "output_type": "execute_result"
    }
   ],
   "source": [
    "a.dtype"
   ]
  },
  {
   "cell_type": "code",
   "execution_count": 30,
   "id": "1b7a33d2-cef8-45dc-81dc-9ea2c56da54c",
   "metadata": {},
   "outputs": [
    {
     "data": {
      "text/plain": [
       "4"
      ]
     },
     "execution_count": 30,
     "metadata": {},
     "output_type": "execute_result"
    }
   ],
   "source": [
    "a.itemsize"
   ]
  },
  {
   "cell_type": "code",
   "execution_count": 31,
   "id": "c503bbc7-be67-46cc-a103-b3a428bb7372",
   "metadata": {},
   "outputs": [
    {
     "data": {
      "text/plain": [
       "8"
      ]
     },
     "execution_count": 31,
     "metadata": {},
     "output_type": "execute_result"
    }
   ],
   "source": [
    "a.size"
   ]
  },
  {
   "cell_type": "markdown",
   "id": "2ca653fc-7d8b-496e-a0b4-ab5ad3c85dbc",
   "metadata": {},
   "source": [
    "### Array Operations"
   ]
  },
  {
   "cell_type": "code",
   "execution_count": 32,
   "id": "527fc25d-ca12-40ee-8fdb-1c08bc4dfd64",
   "metadata": {},
   "outputs": [
    {
     "data": {
      "text/plain": [
       "array([[ 9, 10, 11],\n",
       "       [12, 13, 14],\n",
       "       [15, 16, 17]])"
      ]
     },
     "execution_count": 32,
     "metadata": {},
     "output_type": "execute_result"
    }
   ],
   "source": [
    "a1 = np.arange(9).reshape(3,3)\n",
    "a2 = np.arange(9,18).reshape(3,3)\n",
    "\n",
    "a2"
   ]
  },
  {
   "cell_type": "code",
   "execution_count": 33,
   "id": "6cc51035-7a00-4572-b1b9-96e45b4991c1",
   "metadata": {},
   "outputs": [],
   "source": [
    " # Operations\n",
    " # +\n",
    " # -\n",
    " # *\n",
    " # /\n",
    " # **"
   ]
  },
  {
   "cell_type": "code",
   "execution_count": 34,
   "id": "0bb05564-4cd6-4f90-b282-185da2524375",
   "metadata": {},
   "outputs": [
    {
     "data": {
      "text/plain": [
       "array([[ 2,  3,  4],\n",
       "       [ 5,  6,  7],\n",
       "       [ 8,  9, 10]])"
      ]
     },
     "execution_count": 34,
     "metadata": {},
     "output_type": "execute_result"
    }
   ],
   "source": [
    "# Scalar operations - Operation on array with a scalar(number).\n",
    "a1 + 2\n",
    "# a1 - 1\n",
    "# a1 * 2\n",
    "# a1 / 2\n",
    "# a1 ** 2"
   ]
  },
  {
   "cell_type": "code",
   "execution_count": 35,
   "id": "728d0a9f-8cb8-4961-bc83-2b041fe73d4a",
   "metadata": {},
   "outputs": [
    {
     "data": {
      "text/plain": [
       "array([[False, False, False],\n",
       "       [False, False, False],\n",
       "       [False, False, False]])"
      ]
     },
     "execution_count": 35,
     "metadata": {},
     "output_type": "execute_result"
    }
   ],
   "source": [
    "# Relational\n",
    "# ==, !=, >, <, >=, <=\n",
    "a1 == a2\n",
    "# a1 != a2\n",
    "# a1 >= a2\n",
    "# a1 > a2\n",
    "# a1 <= a2\n",
    "# a1 < a2"
   ]
  },
  {
   "cell_type": "code",
   "execution_count": 36,
   "id": "e962587b-c865-44ac-9b75-6f0e02c4ce99",
   "metadata": {},
   "outputs": [
    {
     "data": {
      "text/plain": [
       "array([[ 9, 11, 13],\n",
       "       [15, 17, 19],\n",
       "       [21, 23, 25]])"
      ]
     },
     "execution_count": 36,
     "metadata": {},
     "output_type": "execute_result"
    }
   ],
   "source": [
    "# vector operations - operations on two vectors\n",
    "a1 + a2\n",
    "# a1 * a2\n",
    "# a1 ** a2"
   ]
  },
  {
   "cell_type": "markdown",
   "id": "8dc1afd1-add0-4a04-b916-a1973eae0885",
   "metadata": {},
   "source": [
    "### Array Functions"
   ]
  },
  {
   "cell_type": "code",
   "execution_count": 37,
   "id": "02ba9d9f-0fac-4009-aa88-7105fc448190",
   "metadata": {},
   "outputs": [
    {
     "data": {
      "text/plain": [
       "array([[80.89, 56.61, 78.68],\n",
       "       [64.41, 22.33, 30.46],\n",
       "       [21.91, 86.33, 19.41]])"
      ]
     },
     "execution_count": 37,
     "metadata": {},
     "output_type": "execute_result"
    }
   ],
   "source": [
    "a = np.random.random((3,3))\n",
    "a = np.round(a*100, 2)\n",
    "a"
   ]
  },
  {
   "cell_type": "code",
   "execution_count": 38,
   "id": "fd5e0da1-cbb6-4741-b81b-0b86db8a2952",
   "metadata": {},
   "outputs": [
    {
     "data": {
      "text/plain": [
       "array([[81, 57, 79],\n",
       "       [64, 22, 30],\n",
       "       [22, 86, 19]])"
      ]
     },
     "execution_count": 38,
     "metadata": {},
     "output_type": "execute_result"
    }
   ],
   "source": [
    "a = np.round(a)\n",
    "a = a.astype(np.int32)\n",
    "a"
   ]
  },
  {
   "cell_type": "code",
   "execution_count": 39,
   "id": "a40b85e4-ac39-43d5-9184-59caa50380e7",
   "metadata": {},
   "outputs": [
    {
     "data": {
      "text/plain": [
       "array([22, 22, 19])"
      ]
     },
     "execution_count": 39,
     "metadata": {},
     "output_type": "execute_result"
    }
   ],
   "source": [
    "# min/max/sum/prod\n",
    "# 0 -> col , 1 -> row\n",
    "np.min(a, axis = 0)\n",
    "# np.max(a, axis = 0)\n",
    "# np.sum(a, axis = 1)\n",
    "# np.prod(a, axis = 1)"
   ]
  },
  {
   "cell_type": "code",
   "execution_count": 40,
   "id": "3ce3e2ab-19ec-4921-b82c-41a24ad64d9b",
   "metadata": {},
   "outputs": [
    {
     "data": {
      "text/plain": [
       "array([79., 30., 22.])"
      ]
     },
     "execution_count": 40,
     "metadata": {},
     "output_type": "execute_result"
    }
   ],
   "source": [
    "# mean, median, std, var\n",
    "np.mean(a, axis = 0)\n",
    "np. median(a, axis = 1)"
   ]
  },
  {
   "cell_type": "code",
   "execution_count": 41,
   "id": "20d4cc85-3064-46d3-8b8c-83e8e2da86d5",
   "metadata": {},
   "outputs": [
    {
     "data": {
      "text/plain": [
       "array([[-0.62988799,  0.43616476, -0.44411267],\n",
       "       [ 0.92002604, -0.00885131, -0.98803162],\n",
       "       [-0.00885131, -0.92345845,  0.14987721]])"
      ]
     },
     "execution_count": 41,
     "metadata": {},
     "output_type": "execute_result"
    }
   ],
   "source": [
    "# Trignometric Functions - sin, cos, tan, cot, etc..\n",
    "np.sin(a)\n",
    "# np.cos([0,30,45,60,90])"
   ]
  },
  {
   "cell_type": "code",
   "execution_count": 42,
   "id": "96332c1a-5139-4968-9fc0-d80cb81b9cf2",
   "metadata": {},
   "outputs": [
    {
     "name": "stdout",
     "output_type": "stream",
     "text": [
      "[[0 1 2]\n",
      " [3 4 5]]\n",
      "\n",
      "[[ 6  7]\n",
      " [ 8  9]\n",
      " [10 11]]\n"
     ]
    }
   ],
   "source": [
    "# dot product or matrix multiplication\n",
    "a1 = np.arange(6).reshape(2,3)\n",
    "a2 = np.arange(6,12).reshape(3,2)\n",
    "\n",
    "print(a1)\n",
    "print()\n",
    "print(a2)"
   ]
  },
  {
   "cell_type": "code",
   "execution_count": 43,
   "id": "575085f9-f93d-4673-bb30-dea8924707cf",
   "metadata": {},
   "outputs": [
    {
     "data": {
      "text/plain": [
       "array([[ 28,  31],\n",
       "       [100, 112]])"
      ]
     },
     "execution_count": 43,
     "metadata": {},
     "output_type": "execute_result"
    }
   ],
   "source": [
    "np.dot(a1, a2)"
   ]
  },
  {
   "cell_type": "code",
   "execution_count": 44,
   "id": "48a19acb-9df3-4a6b-b3ff-5cd5e1dd49ff",
   "metadata": {},
   "outputs": [
    {
     "name": "stderr",
     "output_type": "stream",
     "text": [
      "C:\\Users\\Kishor Reddy\\AppData\\Local\\Temp\\ipykernel_5360\\2688507398.py:2: RuntimeWarning: divide by zero encountered in log\n",
      "  np.log(a1)\n"
     ]
    },
    {
     "data": {
      "text/plain": [
       "array([[      -inf, 0.        , 0.69314718],\n",
       "       [1.09861229, 1.38629436, 1.60943791]])"
      ]
     },
     "execution_count": 44,
     "metadata": {},
     "output_type": "execute_result"
    }
   ],
   "source": [
    "# log , exp\n",
    "np.log(a1)"
   ]
  },
  {
   "cell_type": "code",
   "execution_count": 45,
   "id": "2f6d41a1-962f-4d46-b593-f489e5aa01bd",
   "metadata": {},
   "outputs": [
    {
     "data": {
      "text/plain": [
       "array([[  1.        ,   2.71828183,   7.3890561 ],\n",
       "       [ 20.08553692,  54.59815003, 148.4131591 ]])"
      ]
     },
     "execution_count": 45,
     "metadata": {},
     "output_type": "execute_result"
    }
   ],
   "source": [
    "a1 = np.exp(a1)\n",
    "a1"
   ]
  },
  {
   "cell_type": "code",
   "execution_count": 46,
   "id": "d3c0bdda-5ef9-44e7-af90-85cea68ed8e4",
   "metadata": {},
   "outputs": [
    {
     "data": {
      "text/plain": [
       "array([[  1.,   2.,   7.],\n",
       "       [ 20.,  54., 148.]])"
      ]
     },
     "execution_count": 46,
     "metadata": {},
     "output_type": "execute_result"
    }
   ],
   "source": [
    "# round/ floor/ ceil\n",
    "np.floor(a1)"
   ]
  },
  {
   "cell_type": "markdown",
   "id": "ef371c04-f419-4d6a-a0d1-37f2918d7034",
   "metadata": {},
   "source": [
    "### Indexing and Slicing"
   ]
  },
  {
   "cell_type": "code",
   "execution_count": 47,
   "id": "8cb4c04c-9c0d-4f79-8c71-8237323d8bc7",
   "metadata": {},
   "outputs": [
    {
     "name": "stdout",
     "output_type": "stream",
     "text": [
      "[77 43 85 69  9 97 76 78]\n",
      "Array 2\n",
      "[[77 43 85 69]\n",
      " [ 9 97 76 78]]\n",
      "Array 3\n",
      "[[[77 43]\n",
      "  [85 69]]\n",
      "\n",
      " [[ 9 97]\n",
      "  [76 78]]]\n"
     ]
    }
   ],
   "source": [
    "# default_rng is seed value gives same random values for again when executed\n",
    "a1 = (np.random.default_rng(42).random((8))*100).astype(np.int32)\n",
    "a2 = (np.random.default_rng(42).random((2,4))*100).astype(np.int32)\n",
    "a3 = (np.random.default_rng(42).random((2,2,2))*100).astype(np.int32)\n",
    "print(a1)\n",
    "print(\"Array 2\")\n",
    "print(a2)\n",
    "print(\"Array 3\")\n",
    "print(a3)"
   ]
  },
  {
   "cell_type": "code",
   "execution_count": 48,
   "id": "9ac4805a-6817-475b-b227-2fd8679aa38b",
   "metadata": {},
   "outputs": [
    {
     "data": {
      "text/plain": [
       "97"
      ]
     },
     "execution_count": 48,
     "metadata": {},
     "output_type": "execute_result"
    }
   ],
   "source": [
    "# accessing single value in all 3 dimensions 97\n",
    "a1[5]\n",
    "a2[1][1]\n",
    "a3[1][0][1]"
   ]
  },
  {
   "cell_type": "code",
   "execution_count": 49,
   "id": "cb7f42f6-b1ec-438e-a1db-67fc6f5007f4",
   "metadata": {},
   "outputs": [
    {
     "data": {
      "text/plain": [
       "array([77, 43, 85, 69])"
      ]
     },
     "execution_count": 49,
     "metadata": {},
     "output_type": "execute_result"
    }
   ],
   "source": [
    "a2[0]"
   ]
  },
  {
   "cell_type": "code",
   "execution_count": 50,
   "id": "2a943fa8-5f7e-47eb-a4a8-5300a7f25660",
   "metadata": {},
   "outputs": [
    {
     "data": {
      "text/plain": [
       "array([[ 9, 97],\n",
       "       [76, 78]])"
      ]
     },
     "execution_count": 50,
     "metadata": {},
     "output_type": "execute_result"
    }
   ],
   "source": [
    "a3[1]"
   ]
  },
  {
   "cell_type": "code",
   "execution_count": 51,
   "id": "f02a4adf-bd4b-4707-b4e5-ed8174722390",
   "metadata": {},
   "outputs": [
    {
     "data": {
      "text/plain": [
       "array([85,  9])"
      ]
     },
     "execution_count": 51,
     "metadata": {},
     "output_type": "execute_result"
    }
   ],
   "source": [
    "# slicing - array[start:end+1:step]\n",
    "a1[2:6:2]"
   ]
  },
  {
   "cell_type": "code",
   "execution_count": 52,
   "id": "46812720-bce2-4ecd-b1ae-1a0bf6be14dc",
   "metadata": {},
   "outputs": [
    {
     "name": "stdout",
     "output_type": "stream",
     "text": [
      "[77 43 85 69  9 97 76 78]\n"
     ]
    },
    {
     "data": {
      "text/plain": [
       "array([76, 97,  9])"
      ]
     },
     "execution_count": 52,
     "metadata": {},
     "output_type": "execute_result"
    }
   ],
   "source": [
    "print(a1)\n",
    "a1[-2:-5:-1]"
   ]
  },
  {
   "cell_type": "code",
   "execution_count": 53,
   "id": "c7780c7e-4ee3-4aff-a97f-6a9dca729ec0",
   "metadata": {},
   "outputs": [
    {
     "name": "stdout",
     "output_type": "stream",
     "text": [
      "[77 43 85 69  9 97 76 78]\n"
     ]
    },
    {
     "data": {
      "text/plain": [
       "array([ 9, 97, 76])"
      ]
     },
     "execution_count": 53,
     "metadata": {},
     "output_type": "execute_result"
    }
   ],
   "source": [
    "print(a1)\n",
    "a1[-4:-1]"
   ]
  },
  {
   "cell_type": "code",
   "execution_count": 54,
   "id": "b6c5f695-59f6-4606-9727-f6a5975d2897",
   "metadata": {},
   "outputs": [
    {
     "name": "stdout",
     "output_type": "stream",
     "text": [
      "[[77 43 85 69]\n",
      " [ 9 97 76 78]]\n"
     ]
    },
    {
     "data": {
      "text/plain": [
       "array([[43, 85],\n",
       "       [97, 76]])"
      ]
     },
     "execution_count": 54,
     "metadata": {},
     "output_type": "execute_result"
    }
   ],
   "source": [
    "print(a2)\n",
    "a2[:, 1:3]"
   ]
  },
  {
   "cell_type": "code",
   "execution_count": 55,
   "id": "ba75608b-2f34-483f-8a36-18b7d78a64d9",
   "metadata": {},
   "outputs": [
    {
     "name": "stdout",
     "output_type": "stream",
     "text": [
      "[[[77 43]\n",
      "  [85 69]]\n",
      "\n",
      " [[ 9 97]\n",
      "  [76 78]]]\n"
     ]
    },
    {
     "data": {
      "text/plain": [
       "array([[ 9, 97],\n",
       "       [76, 78]])"
      ]
     },
     "execution_count": 55,
     "metadata": {},
     "output_type": "execute_result"
    }
   ],
   "source": [
    "print(a3)\n",
    "a3[1,:,:]"
   ]
  },
  {
   "cell_type": "code",
   "execution_count": 56,
   "id": "abcd9444-b6a5-4905-960a-eb07ced79921",
   "metadata": {},
   "outputs": [
    {
     "data": {
      "text/plain": [
       "array([[ 0,  1,  2,  3,  4],\n",
       "       [ 5,  6,  7,  8,  9],\n",
       "       [10, 11, 12, 13, 14],\n",
       "       [15, 16, 17, 18, 19],\n",
       "       [20, 21, 22, 23, 24]])"
      ]
     },
     "execution_count": 56,
     "metadata": {},
     "output_type": "execute_result"
    }
   ],
   "source": [
    "a2 = np.arange(25).reshape(5,5)\n",
    "a2"
   ]
  },
  {
   "cell_type": "code",
   "execution_count": 57,
   "id": "6bd15323-3ad9-4fb1-99f0-b80359955e3e",
   "metadata": {},
   "outputs": [
    {
     "data": {
      "text/plain": [
       "array([[ 6,  8],\n",
       "       [16, 18]])"
      ]
     },
     "execution_count": 57,
     "metadata": {},
     "output_type": "execute_result"
    }
   ],
   "source": [
    "a2[1::2,1::2]"
   ]
  },
  {
   "cell_type": "code",
   "execution_count": 58,
   "id": "4379e199-107b-4fce-878c-2f472d31c938",
   "metadata": {},
   "outputs": [
    {
     "data": {
      "text/plain": [
       "array([[ 6,  7,  8],\n",
       "       [11, 12, 13],\n",
       "       [16, 17, 18]])"
      ]
     },
     "execution_count": 58,
     "metadata": {},
     "output_type": "execute_result"
    }
   ],
   "source": [
    "a2[1:4,1:4]"
   ]
  },
  {
   "cell_type": "code",
   "execution_count": 59,
   "id": "11c885f9-c788-471a-b3bc-117b5bc38d87",
   "metadata": {},
   "outputs": [
    {
     "data": {
      "text/plain": [
       "array([[[ 0,  1,  2,  3],\n",
       "        [ 4,  5,  6,  7],\n",
       "        [ 8,  9, 10, 11],\n",
       "        [12, 13, 14, 15]],\n",
       "\n",
       "       [[16, 17, 18, 19],\n",
       "        [20, 21, 22, 23],\n",
       "        [24, 25, 26, 27],\n",
       "        [28, 29, 30, 31]],\n",
       "\n",
       "       [[32, 33, 34, 35],\n",
       "        [36, 37, 38, 39],\n",
       "        [40, 41, 42, 43],\n",
       "        [44, 45, 46, 47]]])"
      ]
     },
     "execution_count": 59,
     "metadata": {},
     "output_type": "execute_result"
    }
   ],
   "source": [
    "a3 = np.arange(48).reshape(3,4,4)\n",
    "a3"
   ]
  },
  {
   "cell_type": "code",
   "execution_count": 60,
   "id": "be6e9a09-bca7-44ec-94b2-29ef7d94275c",
   "metadata": {},
   "outputs": [
    {
     "data": {
      "text/plain": [
       "array([[[ 4,  5,  6,  7],\n",
       "        [12, 13, 14, 15]],\n",
       "\n",
       "       [[36, 37, 38, 39],\n",
       "        [44, 45, 46, 47]]])"
      ]
     },
     "execution_count": 60,
     "metadata": {},
     "output_type": "execute_result"
    }
   ],
   "source": [
    "a3[::2,1::2,:]"
   ]
  },
  {
   "cell_type": "markdown",
   "id": "1c7fd5d7-ba6c-4632-b132-719f480a015a",
   "metadata": {},
   "source": [
    "### Iterating"
   ]
  },
  {
   "cell_type": "code",
   "execution_count": 61,
   "id": "39ee4165-d1d6-489b-bdd8-5a5b1dd335ca",
   "metadata": {},
   "outputs": [
    {
     "data": {
      "text/plain": [
       "array([77, 43, 85, 69,  9, 97, 76, 78])"
      ]
     },
     "execution_count": 61,
     "metadata": {},
     "output_type": "execute_result"
    }
   ],
   "source": [
    "a1"
   ]
  },
  {
   "cell_type": "code",
   "execution_count": 62,
   "id": "b34ecbd9-171b-4c7d-9285-828d2e809b58",
   "metadata": {},
   "outputs": [
    {
     "name": "stdout",
     "output_type": "stream",
     "text": [
      "77\n",
      "43\n",
      "85\n",
      "69\n",
      "9\n",
      "97\n",
      "76\n",
      "78\n"
     ]
    }
   ],
   "source": [
    "for i in a1:\n",
    "    print(i)"
   ]
  },
  {
   "cell_type": "code",
   "execution_count": 63,
   "id": "3d2e101d-3685-4917-9067-cd9722e8607d",
   "metadata": {},
   "outputs": [
    {
     "data": {
      "text/plain": [
       "array([[ 0,  1,  2,  3,  4],\n",
       "       [ 5,  6,  7,  8,  9],\n",
       "       [10, 11, 12, 13, 14],\n",
       "       [15, 16, 17, 18, 19],\n",
       "       [20, 21, 22, 23, 24]])"
      ]
     },
     "execution_count": 63,
     "metadata": {},
     "output_type": "execute_result"
    }
   ],
   "source": [
    "a2"
   ]
  },
  {
   "cell_type": "code",
   "execution_count": 64,
   "id": "06e01f7e-4411-48b9-a89a-6ab5baecffde",
   "metadata": {},
   "outputs": [
    {
     "name": "stdout",
     "output_type": "stream",
     "text": [
      "[0 1 2 3 4]\n",
      "[5 6 7 8 9]\n",
      "[10 11 12 13 14]\n",
      "[15 16 17 18 19]\n",
      "[20 21 22 23 24]\n"
     ]
    }
   ],
   "source": [
    "for i in a2:\n",
    "    print(i)"
   ]
  },
  {
   "cell_type": "code",
   "execution_count": 65,
   "id": "8428ed77-6fb2-41a6-b951-4a439cb0e18a",
   "metadata": {},
   "outputs": [
    {
     "data": {
      "text/plain": [
       "numpy.ndarray"
      ]
     },
     "execution_count": 65,
     "metadata": {},
     "output_type": "execute_result"
    }
   ],
   "source": [
    "type(a2)"
   ]
  },
  {
   "cell_type": "code",
   "execution_count": 66,
   "id": "4ec75455-6017-4382-9e8d-14416a2525ee",
   "metadata": {},
   "outputs": [
    {
     "data": {
      "text/plain": [
       "array([[[ 0,  1,  2,  3],\n",
       "        [ 4,  5,  6,  7],\n",
       "        [ 8,  9, 10, 11],\n",
       "        [12, 13, 14, 15]],\n",
       "\n",
       "       [[16, 17, 18, 19],\n",
       "        [20, 21, 22, 23],\n",
       "        [24, 25, 26, 27],\n",
       "        [28, 29, 30, 31]],\n",
       "\n",
       "       [[32, 33, 34, 35],\n",
       "        [36, 37, 38, 39],\n",
       "        [40, 41, 42, 43],\n",
       "        [44, 45, 46, 47]]])"
      ]
     },
     "execution_count": 66,
     "metadata": {},
     "output_type": "execute_result"
    }
   ],
   "source": [
    "a3"
   ]
  },
  {
   "cell_type": "code",
   "execution_count": 67,
   "id": "a466d648-db85-4087-83cb-0a89f5d42dfb",
   "metadata": {},
   "outputs": [
    {
     "name": "stdout",
     "output_type": "stream",
     "text": [
      "[[ 0  1  2  3]\n",
      " [ 4  5  6  7]\n",
      " [ 8  9 10 11]\n",
      " [12 13 14 15]]\n",
      "[[16 17 18 19]\n",
      " [20 21 22 23]\n",
      " [24 25 26 27]\n",
      " [28 29 30 31]]\n",
      "[[32 33 34 35]\n",
      " [36 37 38 39]\n",
      " [40 41 42 43]\n",
      " [44 45 46 47]]\n"
     ]
    }
   ],
   "source": [
    "for i in a3:\n",
    "    print(i)"
   ]
  },
  {
   "cell_type": "code",
   "execution_count": 68,
   "id": "f2844de6-46b6-4efe-93d7-aec757261942",
   "metadata": {},
   "outputs": [
    {
     "name": "stdout",
     "output_type": "stream",
     "text": [
      "0\n",
      "1\n",
      "2\n",
      "3\n",
      "4\n",
      "5\n",
      "6\n",
      "7\n",
      "8\n",
      "9\n",
      "10\n",
      "11\n",
      "12\n",
      "13\n",
      "14\n",
      "15\n",
      "16\n",
      "17\n",
      "18\n",
      "19\n",
      "20\n",
      "21\n",
      "22\n",
      "23\n",
      "24\n"
     ]
    }
   ],
   "source": [
    "for i in np.nditer(a2):\n",
    "    print(i)"
   ]
  },
  {
   "cell_type": "markdown",
   "id": "e5225848-5256-4f0c-9b5f-c9e5a6605502",
   "metadata": {},
   "source": [
    "### Reshaping"
   ]
  },
  {
   "cell_type": "code",
   "execution_count": 69,
   "id": "f0e8359b-8eb2-404c-8f8e-15a76d903a8c",
   "metadata": {},
   "outputs": [
    {
     "name": "stdout",
     "output_type": "stream",
     "text": [
      "[[ 0  1  2  3  4]\n",
      " [ 5  6  7  8  9]\n",
      " [10 11 12 13 14]\n",
      " [15 16 17 18 19]\n",
      " [20 21 22 23 24]]\n"
     ]
    },
    {
     "data": {
      "text/plain": [
       "array([[ 0,  5, 10, 15, 20],\n",
       "       [ 1,  6, 11, 16, 21],\n",
       "       [ 2,  7, 12, 17, 22],\n",
       "       [ 3,  8, 13, 18, 23],\n",
       "       [ 4,  9, 14, 19, 24]])"
      ]
     },
     "execution_count": 69,
     "metadata": {},
     "output_type": "execute_result"
    }
   ],
   "source": [
    "# transpose\n",
    "print(a2)\n",
    "# np.transpose(a2)\n",
    "a2.T"
   ]
  },
  {
   "cell_type": "code",
   "execution_count": 70,
   "id": "9a83cf39-8d7b-4afe-b559-28a50ac236d4",
   "metadata": {},
   "outputs": [
    {
     "data": {
      "text/plain": [
       "array([ 0,  1,  2,  3,  4,  5,  6,  7,  8,  9, 10, 11, 12, 13, 14, 15, 16,\n",
       "       17, 18, 19, 20, 21, 22, 23, 24])"
      ]
     },
     "execution_count": 70,
     "metadata": {},
     "output_type": "execute_result"
    }
   ],
   "source": [
    "# ravel - gives a 1D array of nD array\n",
    "a2.ravel()"
   ]
  },
  {
   "cell_type": "markdown",
   "id": "2d564fad-9063-4ae7-b288-6a8ce365c4d4",
   "metadata": {},
   "source": [
    "### Stacking"
   ]
  },
  {
   "cell_type": "code",
   "execution_count": 71,
   "id": "395f02cb-f122-4511-aa82-e3a8f92bb8b3",
   "metadata": {},
   "outputs": [
    {
     "name": "stdout",
     "output_type": "stream",
     "text": [
      "[[0 1]\n",
      " [2 3]] \n",
      "\n",
      "\n",
      " a2\n",
      "[[4 5]\n",
      " [6 7]]\n"
     ]
    }
   ],
   "source": [
    "a1 = np.arange(4).reshape(2,2)\n",
    "a2 = np.arange(4,8).reshape(2,2)\n",
    "print(f\"{a1} \\n\\n\\n a2\\n{a2}\")"
   ]
  },
  {
   "cell_type": "code",
   "execution_count": 72,
   "id": "06842ec9-7ef0-4c9b-8899-1584edab5b66",
   "metadata": {},
   "outputs": [
    {
     "data": {
      "text/plain": [
       "array([[0, 1, 4, 5],\n",
       "       [2, 3, 6, 7]])"
      ]
     },
     "execution_count": 72,
     "metadata": {},
     "output_type": "execute_result"
    }
   ],
   "source": [
    "# hstack - horizontal stack\n",
    "np.hstack((a1,a2))\n"
   ]
  },
  {
   "cell_type": "code",
   "execution_count": 73,
   "id": "ce9684e9-554b-4271-8602-3b09988259fa",
   "metadata": {},
   "outputs": [
    {
     "data": {
      "text/plain": [
       "array([[0, 1],\n",
       "       [2, 3],\n",
       "       [4, 5],\n",
       "       [6, 7]])"
      ]
     },
     "execution_count": 73,
     "metadata": {},
     "output_type": "execute_result"
    }
   ],
   "source": [
    "# vertical stack - vstack\n",
    "np.vstack((a1,a2))"
   ]
  },
  {
   "cell_type": "markdown",
   "id": "7eed4af7-3efa-499b-af76-66babe4b8c51",
   "metadata": {},
   "source": [
    "### Splitting"
   ]
  },
  {
   "cell_type": "code",
   "execution_count": 74,
   "id": "8be3e170-db51-4967-bbad-0a060745914d",
   "metadata": {},
   "outputs": [
    {
     "name": "stdout",
     "output_type": "stream",
     "text": [
      "[[0 1 4 5]\n",
      " [2 3 6 7]]\n",
      "\n",
      "[[0 1]\n",
      " [2 3]\n",
      " [4 5]\n",
      " [6 7]]\n"
     ]
    }
   ],
   "source": [
    "temp = a1\n",
    "a1 = np.hstack((a1,a2))\n",
    "a2 = np.vstack((temp, a2))\n",
    "print(a1)\n",
    "print()\n",
    "print(a2)"
   ]
  },
  {
   "cell_type": "code",
   "execution_count": 75,
   "id": "9b8b2357-666b-48df-8192-3c14b67c3887",
   "metadata": {},
   "outputs": [
    {
     "data": {
      "text/plain": [
       "[array([[0, 1],\n",
       "        [2, 3]]),\n",
       " array([[4, 5],\n",
       "        [6, 7]])]"
      ]
     },
     "execution_count": 75,
     "metadata": {},
     "output_type": "execute_result"
    }
   ],
   "source": [
    "np.hsplit(a1,2)"
   ]
  },
  {
   "cell_type": "code",
   "execution_count": 76,
   "id": "c12c4fe4-3e82-4382-88e5-f75ec9e37970",
   "metadata": {},
   "outputs": [
    {
     "data": {
      "text/plain": [
       "[array([[0, 1],\n",
       "        [2, 3]]),\n",
       " array([[4, 5],\n",
       "        [6, 7]])]"
      ]
     },
     "execution_count": 76,
     "metadata": {},
     "output_type": "execute_result"
    }
   ],
   "source": [
    "np.vsplit(a2, 2)"
   ]
  },
  {
   "cell_type": "code",
   "execution_count": 77,
   "id": "fbc13f19-2be9-4ed5-979a-477c733f0148",
   "metadata": {},
   "outputs": [
    {
     "name": "stdout",
     "output_type": "stream",
     "text": [
      "[[0 1 4 5]\n",
      " [2 3 6 7]]\n"
     ]
    },
    {
     "data": {
      "text/plain": [
       "[array([[0],\n",
       "        [2]]),\n",
       " array([[1],\n",
       "        [3]]),\n",
       " array([[4],\n",
       "        [6]]),\n",
       " array([[5],\n",
       "        [7]])]"
      ]
     },
     "execution_count": 77,
     "metadata": {},
     "output_type": "execute_result"
    }
   ],
   "source": [
    "print(a1)\n",
    "np.split(a1, 4, axis = 1)"
   ]
  },
  {
   "cell_type": "markdown",
   "id": "5f2d2b45-ad9b-47c8-85e4-7579d794678d",
   "metadata": {},
   "source": [
    "### Advanced Indexing"
   ]
  },
  {
   "cell_type": "code",
   "execution_count": 78,
   "id": "b2d99752-78d9-4992-9f57-4662fae90b8e",
   "metadata": {},
   "outputs": [
    {
     "data": {
      "text/plain": [
       "array([[ 0,  1,  2,  3,  4],\n",
       "       [ 5,  6,  7,  8,  9],\n",
       "       [10, 11, 12, 13, 14],\n",
       "       [15, 16, 17, 18, 19],\n",
       "       [20, 21, 22, 23, 24],\n",
       "       [25, 26, 27, 28, 29]])"
      ]
     },
     "execution_count": 78,
     "metadata": {},
     "output_type": "execute_result"
    }
   ],
   "source": [
    "a = np.arange(30).reshape(6,5)\n",
    "a"
   ]
  },
  {
   "cell_type": "code",
   "execution_count": 79,
   "id": "6f5128d3-63d1-4b7a-af29-b2389dd7b742",
   "metadata": {},
   "outputs": [
    {
     "data": {
      "text/plain": [
       "array([[ 5,  7,  9],\n",
       "       [15, 17, 19],\n",
       "       [25, 27, 29]])"
      ]
     },
     "execution_count": 79,
     "metadata": {},
     "output_type": "execute_result"
    }
   ],
   "source": [
    "a[1::2, ::2]"
   ]
  },
  {
   "cell_type": "code",
   "execution_count": 80,
   "id": "28dcee3f-7e4f-47fc-a9eb-536dae940648",
   "metadata": {},
   "outputs": [
    {
     "data": {
      "text/plain": [
       "array([[ 1,  2,  4],\n",
       "       [11, 12, 14],\n",
       "       [21, 22, 24]])"
      ]
     },
     "execution_count": 80,
     "metadata": {},
     "output_type": "execute_result"
    }
   ],
   "source": [
    "# Fancy Indexing\n",
    "a[::2, [1,2,4]]"
   ]
  },
  {
   "cell_type": "code",
   "execution_count": 81,
   "id": "d0124de4-23fd-43d5-b2f0-985ac2943b73",
   "metadata": {},
   "outputs": [
    {
     "data": {
      "text/plain": [
       "array([[ 0,  1,  2,  3,  4],\n",
       "       [ 5,  6,  7,  8,  9],\n",
       "       [25, 26, 27, 28, 29]])"
      ]
     },
     "execution_count": 81,
     "metadata": {},
     "output_type": "execute_result"
    }
   ],
   "source": [
    "a[[0,1,5], :]"
   ]
  },
  {
   "cell_type": "code",
   "execution_count": 82,
   "id": "72342acb-cc6a-48f9-9747-69643fca2626",
   "metadata": {},
   "outputs": [
    {
     "data": {
      "text/plain": [
       "array([ 5, 11, 29])"
      ]
     },
     "execution_count": 82,
     "metadata": {},
     "output_type": "execute_result"
    }
   ],
   "source": [
    "a[[1,2,5],[0,1,4]]"
   ]
  },
  {
   "cell_type": "code",
   "execution_count": 83,
   "id": "a16d2746-087f-47a6-8dc8-4e21195cd23e",
   "metadata": {},
   "outputs": [
    {
     "data": {
      "text/plain": [
       "array([[24, 88,  6, 99, 28],\n",
       "       [29,  8, 77, 44, 75],\n",
       "       [58, 30, 49, 62, 69],\n",
       "       [24, 90, 42, 59, 61]])"
      ]
     },
     "execution_count": 83,
     "metadata": {},
     "output_type": "execute_result"
    }
   ],
   "source": [
    "# Boolean Indexing\n",
    "a = np.random.randint(1,100,20).reshape(4,5)\n",
    "a"
   ]
  },
  {
   "cell_type": "code",
   "execution_count": 84,
   "id": "da685e40-be3b-4b6b-b833-55b669855495",
   "metadata": {},
   "outputs": [
    {
     "data": {
      "text/plain": [
       "array([88, 99, 77, 75, 58, 62, 69, 90, 59, 61])"
      ]
     },
     "execution_count": 84,
     "metadata": {},
     "output_type": "execute_result"
    }
   ],
   "source": [
    "a[a > 50]"
   ]
  },
  {
   "cell_type": "code",
   "execution_count": 85,
   "id": "b35c7bc4-116f-4b54-b14f-380c61f65873",
   "metadata": {},
   "outputs": [
    {
     "data": {
      "text/plain": [
       "array([24, 88,  6, 28,  8, 44, 58, 30, 62, 24, 90, 42])"
      ]
     },
     "execution_count": 85,
     "metadata": {},
     "output_type": "execute_result"
    }
   ],
   "source": [
    "a[a%2 == 0]"
   ]
  },
  {
   "cell_type": "code",
   "execution_count": 86,
   "id": "e7d07c9b-aa2a-4b9b-943c-0931b38d3d87",
   "metadata": {},
   "outputs": [
    {
     "data": {
      "text/plain": [
       "array([88, 58, 62, 90])"
      ]
     },
     "execution_count": 86,
     "metadata": {},
     "output_type": "execute_result"
    }
   ],
   "source": [
    "a[(a > 50) & (a % 2 == 0)]"
   ]
  },
  {
   "cell_type": "code",
   "execution_count": 87,
   "id": "e11a59e7-43d9-4992-8baf-39b86bc95d36",
   "metadata": {},
   "outputs": [
    {
     "data": {
      "text/plain": [
       "array([99, 29, 77, 75, 49, 69, 59, 61])"
      ]
     },
     "execution_count": 87,
     "metadata": {},
     "output_type": "execute_result"
    }
   ],
   "source": [
    "a[~(a % 2 == 0)]"
   ]
  },
  {
   "cell_type": "markdown",
   "id": "986d2069-5224-488f-a4a5-421a7be3fd79",
   "metadata": {},
   "source": [
    "### Broadcasting"
   ]
  },
  {
   "cell_type": "markdown",
   "id": "16e50dad-44ff-44df-bf1d-05006e76fa3e",
   "metadata": {},
   "source": [
    "It is the behaviour of numpy when a operation is done between 2 different dimension arrays"
   ]
  },
  {
   "cell_type": "code",
   "execution_count": 88,
   "id": "799f7451-44ff-4073-a537-fbab841e0197",
   "metadata": {},
   "outputs": [
    {
     "name": "stdout",
     "output_type": "stream",
     "text": [
      "[[ 61  59  63]\n",
      " [ 64  42 121]]\n"
     ]
    }
   ],
   "source": [
    "# same shape and dimension\n",
    "a1 = np.random.randint(1,100,(2,3))\n",
    "a2 = np.random.randint(1,100,(2,3))\n",
    "print(a1+a2)"
   ]
  },
  {
   "cell_type": "code",
   "execution_count": 91,
   "id": "efbdf8a9-ea5e-4363-9453-7a9900b43fc3",
   "metadata": {},
   "outputs": [
    {
     "name": "stdout",
     "output_type": "stream",
     "text": [
      "array([[0, 1, 2],\n",
      "       [3, 4, 5],\n",
      "       [6, 7, 8]])\n",
      "array([[0, 1, 2]])\n"
     ]
    }
   ],
   "source": [
    "# different dimension 2d with 1d\n",
    "a1 = np.arange(9).reshape(3,3)    #2D\n",
    "a2 = np.arange(3).reshape(1,3)   #1D\n",
    "print(a1.__repr__())\n",
    "print(a2.__repr__())"
   ]
  },
  {
   "cell_type": "code",
   "execution_count": 92,
   "id": "84e5a8d0-f153-44e3-aef6-31e752fd074c",
   "metadata": {},
   "outputs": [
    {
     "name": "stdout",
     "output_type": "stream",
     "text": [
      "[[ 0  2  4]\n",
      " [ 3  5  7]\n",
      " [ 6  8 10]]\n"
     ]
    }
   ],
   "source": [
    "print(a1+a2)"
   ]
  },
  {
   "cell_type": "markdown",
   "id": "253f405a-6ab6-4376-8443-bd5627179e28",
   "metadata": {},
   "source": [
    "## Rules\n",
    "1. Make the two arrays have the same number of dimensions.If the numbers of dimensions of the two arrays are different, add new dimensions with size 1 to the head of the array with the smaller dimension.\n",
    "2. . Make each dimension of the two arrays the same size\n",
    ".\n",
    "\r\n",
    "If the sizes of each dimension of the two arrays do not match, dimensions with size 1 are stretched to the size of the other arr\n",
    "ay.\r\n",
    "If there is a dimension whose size is not 1 in either of the two arrays, it cannot be broadcasted, and an error is raised."
   ]
  },
  {
   "cell_type": "code",
   "execution_count": 105,
   "id": "3df6b7ad-ef6b-4c1c-b45c-8da36577d889",
   "metadata": {},
   "outputs": [
    {
     "name": "stdout",
     "output_type": "stream",
     "text": [
      "array([[ 0,  1,  2,  3],\n",
      "       [ 4,  5,  6,  7],\n",
      "       [ 8,  9, 10, 11]])\n",
      "array([[0],\n",
      "       [1],\n",
      "       [2]])\n",
      "[[ 0  1  2  3]\n",
      " [ 5  6  7  8]\n",
      " [10 11 12 13]]\n"
     ]
    }
   ],
   "source": [
    "a = np.arange(12).reshape(3,4)\n",
    "b = np.arange(3).reshape(3,1)\n",
    "print(a.__repr__())\n",
    "print(b.__repr__())\n",
    "print(a+b)"
   ]
  },
  {
   "cell_type": "code",
   "execution_count": 106,
   "id": "d2c6ec9c-42c0-442d-9ed1-1609ba941027",
   "metadata": {},
   "outputs": [
    {
     "name": "stdout",
     "output_type": "stream",
     "text": [
      "array([[ 0,  1,  2,  3],\n",
      "       [ 4,  5,  6,  7],\n",
      "       [ 8,  9, 10, 11]])\n",
      "array([0, 1, 2, 3])\n",
      "[[ 0  2  4  6]\n",
      " [ 4  6  8 10]\n",
      " [ 8 10 12 14]]\n"
     ]
    }
   ],
   "source": [
    "a = np.arange(12).reshape(3,4)\n",
    "b = np.arange(4).reshape(4,)\n",
    "print(a.__repr__())\n",
    "print(b.__repr__())\n",
    "print(a+b)"
   ]
  },
  {
   "cell_type": "code",
   "execution_count": 107,
   "id": "9add27b6-0beb-4906-afc7-50f67514de69",
   "metadata": {},
   "outputs": [
    {
     "name": "stdout",
     "output_type": "stream",
     "text": [
      "array([[0, 1, 2]])\n",
      "array([[0],\n",
      "       [1],\n",
      "       [2]])\n",
      "[[0 1 2]\n",
      " [1 2 3]\n",
      " [2 3 4]]\n"
     ]
    }
   ],
   "source": [
    "a = np.arange(3).reshape(1,3)\n",
    "b = np.arange(3).reshape(3,1)\n",
    "print(a.__repr__())\n",
    "print(b.__repr__())\n",
    "print(a+b)"
   ]
  },
  {
   "cell_type": "code",
   "execution_count": 108,
   "id": "6e8324da-7dc4-4f1a-99c6-50aad287dd2d",
   "metadata": {},
   "outputs": [
    {
     "name": "stdout",
     "output_type": "stream",
     "text": [
      "array([[0, 1],\n",
      "       [2, 3]])\n",
      "array([[0, 1, 2],\n",
      "       [3, 4, 5],\n",
      "       [6, 7, 8]])\n"
     ]
    },
    {
     "ename": "ValueError",
     "evalue": "operands could not be broadcast together with shapes (2,2) (3,3) ",
     "output_type": "error",
     "traceback": [
      "\u001b[1;31m-----------------------------------------------------------------\u001b[0m",
      "\u001b[1;31mValueError\u001b[0m                      Traceback (most recent call last)",
      "Cell \u001b[1;32mIn[108], line 6\u001b[0m\n\u001b[0;32m      4\u001b[0m \u001b[38;5;28mprint\u001b[39m(a\u001b[38;5;241m.\u001b[39m\u001b[38;5;21m__repr__\u001b[39m())\n\u001b[0;32m      5\u001b[0m \u001b[38;5;28mprint\u001b[39m(b\u001b[38;5;241m.\u001b[39m\u001b[38;5;21m__repr__\u001b[39m())\n\u001b[1;32m----> 6\u001b[0m \u001b[38;5;28mprint\u001b[39m(\u001b[43ma\u001b[49m\u001b[38;5;241;43m+\u001b[39;49m\u001b[43mb\u001b[49m)\n",
      "\u001b[1;31mValueError\u001b[0m: operands could not be broadcast together with shapes (2,2) (3,3) "
     ]
    }
   ],
   "source": [
    "# broadcasting not possible\n",
    "a = np.arange(4).reshape(2,2)\n",
    "b = np.arange(9).reshape(3,3)\n",
    "print(a.__repr__())\n",
    "print(b.__repr__())\n",
    "print(a+b)"
   ]
  },
  {
   "cell_type": "code",
   "execution_count": 110,
   "id": "6ec1cce9-831a-4f39-8a25-835177d45235",
   "metadata": {},
   "outputs": [
    {
     "name": "stdout",
     "output_type": "stream",
     "text": [
      "array([[0, 1],\n",
      "       [2, 3]])\n",
      "array([[ 0,  1,  2,  3],\n",
      "       [ 4,  5,  6,  7],\n",
      "       [ 8,  9, 10, 11],\n",
      "       [12, 13, 14, 15]])\n"
     ]
    },
    {
     "ename": "ValueError",
     "evalue": "operands could not be broadcast together with shapes (2,2) (4,4) ",
     "output_type": "error",
     "traceback": [
      "\u001b[1;31m-----------------------------------------------------------------\u001b[0m",
      "\u001b[1;31mValueError\u001b[0m                      Traceback (most recent call last)",
      "Cell \u001b[1;32mIn[110], line 6\u001b[0m\n\u001b[0;32m      4\u001b[0m \u001b[38;5;28mprint\u001b[39m(a\u001b[38;5;241m.\u001b[39m\u001b[38;5;21m__repr__\u001b[39m())\n\u001b[0;32m      5\u001b[0m \u001b[38;5;28mprint\u001b[39m(b\u001b[38;5;241m.\u001b[39m\u001b[38;5;21m__repr__\u001b[39m())\n\u001b[1;32m----> 6\u001b[0m \u001b[38;5;28mprint\u001b[39m(\u001b[43ma\u001b[49m\u001b[38;5;241;43m+\u001b[39;49m\u001b[43mb\u001b[49m)\n",
      "\u001b[1;31mValueError\u001b[0m: operands could not be broadcast together with shapes (2,2) (4,4) "
     ]
    }
   ],
   "source": [
    "# broadcasting not possible\n",
    "a = np.arange(4).reshape(2,2)\n",
    "b = np.arange(16).reshape(4,4)\n",
    "print(a.__repr__())\n",
    "print(b.__repr__())\n",
    "print(a+b)"
   ]
  },
  {
   "cell_type": "markdown",
   "id": "9cd1c901-8b92-445e-8497-b273746b51e2",
   "metadata": {},
   "source": [
    "### Working With Mathematical Functions"
   ]
  },
  {
   "cell_type": "markdown",
   "id": "e79e51b8-f2d8-4982-8584-c0f013ad83bc",
   "metadata": {},
   "source": [
    "1. sigmoid\n",
    "2. mean square error\n",
    "3. binary cross entropy"
   ]
  },
  {
   "cell_type": "code",
   "execution_count": 111,
   "id": "22e8e5a2-72cf-42af-9531-fafb74dd287b",
   "metadata": {},
   "outputs": [
    {
     "data": {
      "text/plain": [
       "array([0.5       , 0.73105858, 0.88079708, 0.95257413, 0.98201379,\n",
       "       0.99330715, 0.99752738, 0.99908895, 0.99966465, 0.99987661])"
      ]
     },
     "execution_count": 111,
     "metadata": {},
     "output_type": "execute_result"
    }
   ],
   "source": [
    "# sigmoid -> s(x) = 1 / (1 + e power -x)\n",
    "def sigmoid(array):\n",
    "    return 1 / (1 + np.exp(-array))\n",
    "\n",
    "a = np.arange(10)\n",
    "sigmoid(a)"
   ]
  },
  {
   "cell_type": "code",
   "execution_count": 112,
   "id": "d43e697b-51b5-458a-bd12-e5cfd2fa2661",
   "metadata": {},
   "outputs": [
    {
     "data": {
      "text/plain": [
       "96.1"
      ]
     },
     "execution_count": 112,
     "metadata": {},
     "output_type": "execute_result"
    }
   ],
   "source": [
    "# Mean Square Error -> mse = 1/n sigma from n = 1 to n (actual(x) - predicted(x)** 2)\n",
    "def mse(actual, predicted):\n",
    "    return np.mean((actual - predicted)**2)\n",
    "\n",
    "actual = np.random.randint(1,50,10)\n",
    "predicted = np.random.randint(1,50,10)\n",
    "mse(actual, predicted)"
   ]
  },
  {
   "cell_type": "markdown",
   "id": "b69ef6d8-7321-40cf-8b46-6bc43a9bf131",
   "metadata": {},
   "source": [
    "### Working With Missing Values"
   ]
  },
  {
   "cell_type": "code",
   "execution_count": 117,
   "id": "bf1bd358-43cb-4b0b-9797-bf2854966c69",
   "metadata": {},
   "outputs": [
    {
     "data": {
      "text/plain": [
       "array([ 1.,  2.,  3., nan,  5.,  6., nan])"
      ]
     },
     "execution_count": 117,
     "metadata": {},
     "output_type": "execute_result"
    }
   ],
   "source": [
    "a = np.array([1,2,3,np.nan,5,6,np.nan])\n",
    "a"
   ]
  },
  {
   "cell_type": "code",
   "execution_count": 121,
   "id": "5e95eb9e-6b24-43f0-9d79-d5950e929b31",
   "metadata": {},
   "outputs": [
    {
     "data": {
      "text/plain": [
       "array([False, False, False,  True, False, False,  True])"
      ]
     },
     "execution_count": 121,
     "metadata": {},
     "output_type": "execute_result"
    }
   ],
   "source": [
    "np.isnan(a)"
   ]
  },
  {
   "cell_type": "code",
   "execution_count": 122,
   "id": "bdebcccd-1728-42a3-9200-5ec56ca137d1",
   "metadata": {},
   "outputs": [
    {
     "data": {
      "text/plain": [
       "array([1., 2., 3., 5., 6.])"
      ]
     },
     "execution_count": 122,
     "metadata": {},
     "output_type": "execute_result"
    }
   ],
   "source": [
    "a[~(np.isnan(a))]"
   ]
  },
  {
   "cell_type": "code",
   "execution_count": 126,
   "id": "0e075417-9796-424a-a369-f293d6ff4fc8",
   "metadata": {},
   "outputs": [
    {
     "name": "stdout",
     "output_type": "stream",
     "text": [
      "array([[0, 1, 2],\n",
      "       [3, 4, 5],\n",
      "       [6, 7, 8]])\n",
      "array([[ 9, 10, 11],\n",
      "       [12, 13, 14],\n",
      "       [15, 16, 17]])\n"
     ]
    },
    {
     "data": {
      "text/plain": [
       "[array([[0, 1, 2, 3, 4, 5, 6, 7, 8],\n",
       "        [0, 1, 2, 3, 4, 5, 6, 7, 8],\n",
       "        [0, 1, 2, 3, 4, 5, 6, 7, 8],\n",
       "        [0, 1, 2, 3, 4, 5, 6, 7, 8],\n",
       "        [0, 1, 2, 3, 4, 5, 6, 7, 8],\n",
       "        [0, 1, 2, 3, 4, 5, 6, 7, 8],\n",
       "        [0, 1, 2, 3, 4, 5, 6, 7, 8],\n",
       "        [0, 1, 2, 3, 4, 5, 6, 7, 8],\n",
       "        [0, 1, 2, 3, 4, 5, 6, 7, 8]]),\n",
       " array([[ 9,  9,  9,  9,  9,  9,  9,  9,  9],\n",
       "        [10, 10, 10, 10, 10, 10, 10, 10, 10],\n",
       "        [11, 11, 11, 11, 11, 11, 11, 11, 11],\n",
       "        [12, 12, 12, 12, 12, 12, 12, 12, 12],\n",
       "        [13, 13, 13, 13, 13, 13, 13, 13, 13],\n",
       "        [14, 14, 14, 14, 14, 14, 14, 14, 14],\n",
       "        [15, 15, 15, 15, 15, 15, 15, 15, 15],\n",
       "        [16, 16, 16, 16, 16, 16, 16, 16, 16],\n",
       "        [17, 17, 17, 17, 17, 17, 17, 17, 17]])]"
      ]
     },
     "execution_count": 126,
     "metadata": {},
     "output_type": "execute_result"
    }
   ],
   "source": [
    "a = np.arange(9).reshape(3,3)\n",
    "b = np.arange(9,18).reshape(3,3)\n",
    "print(a.__repr__())\n",
    "print(b.__repr__())\n",
    "np.meshgrid(a,b)"
   ]
  },
  {
   "cell_type": "markdown",
   "id": "eda6ebec-c741-4c77-b040-1b233ffc2333",
   "metadata": {},
   "source": [
    "### Important functions"
   ]
  },
  {
   "cell_type": "markdown",
   "id": "6ac93d66-1680-4dc8-b672-8362af25928a",
   "metadata": {},
   "source": [
    "1. sort\n",
    "2. append\n",
    "3. concatenate\n",
    "4. unique\n",
    "5. expand_dims\n",
    "6. where\n",
    "7. argmax, argmin\n",
    "8. cumsum, cumprod\n",
    "9. percentile\n",
    "10. histogram\n",
    "11. corrcoef - correlation coefficients\n",
    "12. isin\n",
    "13. flip\n",
    "14. put\n",
    "15. delete\n",
    "16. clip\n",
    "17. count_nonzero\n",
    "18. repeat\n",
    "19. swapaxes\n",
    "### Set Functions\n",
    "1. union1d\n",
    "2. intersect1d\n",
    "3. setdiff1d\n",
    "4. setxor1d\n",
    "5. in1d\n",
    "\n"
   ]
  }
 ],
 "metadata": {
  "kernelspec": {
   "display_name": "Python 3 (ipykernel)",
   "language": "python",
   "name": "python3"
  },
  "language_info": {
   "codemirror_mode": {
    "name": "ipython",
    "version": 3
   },
   "file_extension": ".py",
   "mimetype": "text/x-python",
   "name": "python",
   "nbconvert_exporter": "python",
   "pygments_lexer": "ipython3",
   "version": "3.12.2"
  }
 },
 "nbformat": 4,
 "nbformat_minor": 5
}
