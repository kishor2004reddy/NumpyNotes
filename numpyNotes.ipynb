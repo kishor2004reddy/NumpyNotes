{
 "cells": [
  {
   "cell_type": "code",
   "execution_count": 1,
   "id": "7d3f988d-c49a-4e96-a242-de839f1b5c00",
   "metadata": {},
   "outputs": [],
   "source": [
    "# importing Library\n",
    "\n",
    "import numpy as np"
   ]
  },
  {
   "cell_type": "markdown",
   "id": "d5939abf-65ed-481a-919e-3210ac81a142",
   "metadata": {},
   "source": [
    "There are 6 ways to create arrays in numpy\n",
    "1. Conversion from other Python structures (i.e. lists and tuples)\n",
    "2. Intrinsic NumPy array creation functions (e.g. arange, ones, zeros, etc.)\n",
    "3. Replicating, joining, or mutating existing arrays\n",
    "4. Reading arrays from disk, either from standard or custom formats\n",
    "5. Creating arrays from raw bytes through the use of strings or buffers\n",
    "6. Use of special library functions (e.g., random)"
   ]
  },
  {
   "cell_type": "markdown",
   "id": "271dda50-0362-485d-8c69-17529b475095",
   "metadata": {},
   "source": [
    "Conversion from other Python structures (i.e. lists and tuples)"
   ]
  },
  {
   "cell_type": "code",
   "execution_count": 2,
   "id": "66216e61-394c-4519-8a7d-8f657e4fbd52",
   "metadata": {},
   "outputs": [
    {
     "name": "stdout",
     "output_type": "stream",
     "text": [
      "[[[1 2]\n",
      "  [3 4]]\n",
      "\n",
      " [[5 6]\n",
      "  [7 8]]]\n"
     ]
    }
   ],
   "source": [
    "a = np.array([1,2,3])   # 1D\n",
    "b = np.array([[1,2,3], [4,5,6]])   # 2D\n",
    "c = np.array([[[1,2], [3,4]], [[5,6],[7,8]]])   # 3D\n",
    "# print(a)\n",
    "# print(b)\n",
    "print(c)"
   ]
  },
  {
   "cell_type": "code",
   "execution_count": 3,
   "id": "8f48a9de-a871-4ed4-bf47-9cf8e37755b1",
   "metadata": {},
   "outputs": [
    {
     "name": "stdout",
     "output_type": "stream",
     "text": [
      "[22. 33. 56.]\n"
     ]
    }
   ],
   "source": [
    "a = np.array((22,33,56), dtype = float)\n",
    "print(a)"
   ]
  },
  {
   "cell_type": "markdown",
   "id": "249cf2d5-371e-41f1-9ccf-f404d34b3a2a",
   "metadata": {},
   "source": [
    "Intrinsic NumPy array creation functions (e.g. arange, ones, zeros, etc.)"
   ]
  },
  {
   "cell_type": "code",
   "execution_count": 4,
   "id": "b6345bbc-f020-4991-b9db-1103a706170a",
   "metadata": {},
   "outputs": [
    {
     "data": {
      "text/plain": [
       "array([ 0,  2,  4,  6,  8, 10])"
      ]
     },
     "execution_count": 4,
     "metadata": {},
     "output_type": "execute_result"
    }
   ],
   "source": [
    "# arange creates array with regularly incrementing values\n",
    "a = np.arange(0,11,2)\n",
    "a"
   ]
  },
  {
   "cell_type": "code",
   "execution_count": 5,
   "id": "53caebcb-0407-4fd2-94e2-7bb2aa1af1a2",
   "metadata": {},
   "outputs": [
    {
     "name": "stdout",
     "output_type": "stream",
     "text": [
      "[[ 0  2]\n",
      " [ 4  6]\n",
      " [ 8 10]]\n"
     ]
    }
   ],
   "source": [
    "#reshape changes the dimensions\n",
    "a = a.reshape((3,2))\n",
    "print(a)"
   ]
  },
  {
   "cell_type": "code",
   "execution_count": 6,
   "id": "7b7e8361-9d1a-4985-aea2-8ab55ae88dec",
   "metadata": {
    "scrolled": true
   },
   "outputs": [
    {
     "data": {
      "text/plain": [
       "array([[[0, 1],\n",
       "        [2, 3]],\n",
       "\n",
       "       [[4, 5],\n",
       "        [6, 7]]])"
      ]
     },
     "execution_count": 6,
     "metadata": {},
     "output_type": "execute_result"
    }
   ],
   "source": [
    "np.arange(8).reshape(2,2,2)"
   ]
  },
  {
   "cell_type": "code",
   "execution_count": 7,
   "id": "b2ee78b2-6355-4f9c-a742-8f211db30c35",
   "metadata": {},
   "outputs": [
    {
     "data": {
      "text/plain": [
       "array([[1., 1., 1.],\n",
       "       [1., 1., 1.],\n",
       "       [1., 1., 1.]])"
      ]
     },
     "execution_count": 7,
     "metadata": {},
     "output_type": "execute_result"
    }
   ],
   "source": [
    "# ones creates array with ones\n",
    "a = np.ones((3,3))\n",
    "a"
   ]
  },
  {
   "cell_type": "code",
   "execution_count": 8,
   "id": "d4b1e102-f76a-4c62-9edc-786f147d9390",
   "metadata": {},
   "outputs": [
    {
     "name": "stdout",
     "output_type": "stream",
     "text": [
      "[[1 1 1]\n",
      " [1 1 1]\n",
      " [1 1 1]]\n"
     ]
    }
   ],
   "source": [
    "a = np.ones((3,3), dtype = np.int8)\n",
    "print(a)"
   ]
  },
  {
   "cell_type": "code",
   "execution_count": 9,
   "id": "98fba474-2c92-4231-b499-f6298de82a7f",
   "metadata": {},
   "outputs": [
    {
     "data": {
      "text/plain": [
       "array([0, 0, 0, 0, 0], dtype=int16)"
      ]
     },
     "execution_count": 9,
     "metadata": {},
     "output_type": "execute_result"
    }
   ],
   "source": [
    "a = np.zeros((5,), dtype = np.int16)\n",
    "a"
   ]
  },
  {
   "cell_type": "code",
   "execution_count": 10,
   "id": "a140853d-5dda-4974-8161-e160cccd1d59",
   "metadata": {},
   "outputs": [
    {
     "data": {
      "text/plain": [
       "array([[0.98968976, 0.74939589, 0.63203019],\n",
       "       [0.39160722, 0.12729663, 0.72691585],\n",
       "       [0.70125728, 0.21289419, 0.98709261]])"
      ]
     },
     "execution_count": 10,
     "metadata": {},
     "output_type": "execute_result"
    }
   ],
   "source": [
    "a = np.random.random((3,3))\n",
    "a"
   ]
  },
  {
   "cell_type": "code",
   "execution_count": 11,
   "id": "64e5ed0a-842f-40a6-86f4-f9bbde576847",
   "metadata": {},
   "outputs": [
    {
     "data": {
      "text/plain": [
       "array([[31, 54, 31],\n",
       "       [15, 27, 24],\n",
       "       [21, 89, 38]])"
      ]
     },
     "execution_count": 11,
     "metadata": {},
     "output_type": "execute_result"
    }
   ],
   "source": [
    "# Creating random array of integers\n",
    "a = np.random.random((3,3))*100\n",
    "a = a.astype(np.int32)\n",
    "a"
   ]
  },
  {
   "cell_type": "markdown",
   "id": "870290b5-3118-4ea8-9409-ea6e9e4ad947",
   "metadata": {},
   "source": [
    "linspace will create arrays with a specified number of elements, and spaced equally between the specified beginning and end values"
   ]
  },
  {
   "cell_type": "code",
   "execution_count": 15,
   "id": "f9e9e313-a40a-42f2-b816-bfcd124dacfe",
   "metadata": {},
   "outputs": [
    {
     "name": "stdout",
     "output_type": "stream",
     "text": [
      "[ 2.  4.  6.  8. 10. 12. 14. 16. 18. 20.]\n"
     ]
    }
   ],
   "source": [
    "# This gives 10 values equally spaced from 2 to 20 both included\n",
    "a = np.linspace(2,20,10)\n",
    "print(a)"
   ]
  },
  {
   "cell_type": "code",
   "execution_count": 16,
   "id": "8bb410fe-e14f-4f53-95a4-9f9091b82d0b",
   "metadata": {
    "scrolled": true
   },
   "outputs": [
    {
     "name": "stdout",
     "output_type": "stream",
     "text": [
      "[[1. 0. 0.]\n",
      " [0. 1. 0.]\n",
      " [0. 0. 1.]]\n"
     ]
    }
   ],
   "source": [
    "# CREATING 2D and 3D arrays\n",
    "a = np.identity(3)\n",
    "print(a)"
   ]
  },
  {
   "cell_type": "code",
   "execution_count": 21,
   "id": "2831b291-6d93-4968-81c8-bb55f6d22f1b",
   "metadata": {},
   "outputs": [
    {
     "data": {
      "text/plain": [
       "array([[1., 0., 0., 0.],\n",
       "       [0., 1., 0., 0.],\n",
       "       [0., 0., 1., 0.]])"
      ]
     },
     "execution_count": 21,
     "metadata": {},
     "output_type": "execute_result"
    }
   ],
   "source": [
    "np.eye(3,4)"
   ]
  },
  {
   "cell_type": "code",
   "execution_count": 26,
   "id": "1b9cffb6-2b59-49a4-b96b-b51fa499ec71",
   "metadata": {},
   "outputs": [
    {
     "data": {
      "text/plain": [
       "array([[1, 0, 0],\n",
       "       [0, 2, 0],\n",
       "       [0, 0, 3]])"
      ]
     },
     "execution_count": 26,
     "metadata": {},
     "output_type": "execute_result"
    }
   ],
   "source": [
    "np.diag([1,2,3])"
   ]
  },
  {
   "cell_type": "code",
   "execution_count": 27,
   "id": "7432a739-bb14-4cdc-88e2-8a76e05c074f",
   "metadata": {},
   "outputs": [
    {
     "data": {
      "text/plain": [
       "array([[0, 0, 0, 0],\n",
       "       [1, 0, 0, 0],\n",
       "       [0, 2, 0, 0],\n",
       "       [0, 0, 3, 0]])"
      ]
     },
     "execution_count": 27,
     "metadata": {},
     "output_type": "execute_result"
    }
   ],
   "source": [
    "np.diag([1,2,3], -1)"
   ]
  },
  {
   "cell_type": "code",
   "execution_count": 28,
   "id": "40ba3e8e-3fea-408a-9c77-1f3af9617c11",
   "metadata": {},
   "outputs": [
    {
     "data": {
      "text/plain": [
       "array([[0, 1, 0, 0],\n",
       "       [0, 0, 2, 0],\n",
       "       [0, 0, 0, 3],\n",
       "       [0, 0, 0, 0]])"
      ]
     },
     "execution_count": 28,
     "metadata": {},
     "output_type": "execute_result"
    }
   ],
   "source": [
    "np.diag([1,2,3], 1)"
   ]
  },
  {
   "cell_type": "code",
   "execution_count": 29,
   "id": "992b4d3a-5168-49fa-864e-3b4455273a36",
   "metadata": {},
   "outputs": [
    {
     "data": {
      "text/plain": [
       "array([[0, 1, 2],\n",
       "       [3, 4, 5],\n",
       "       [6, 7, 8]])"
      ]
     },
     "execution_count": 29,
     "metadata": {},
     "output_type": "execute_result"
    }
   ],
   "source": [
    "a = np.arange(9).reshape(3,3)\n",
    "a"
   ]
  },
  {
   "cell_type": "code",
   "execution_count": 30,
   "id": "39390848-dd0d-4a3a-b1b0-daa874e9b53d",
   "metadata": {},
   "outputs": [
    {
     "data": {
      "text/plain": [
       "array([0, 4, 8])"
      ]
     },
     "execution_count": 30,
     "metadata": {},
     "output_type": "execute_result"
    }
   ],
   "source": [
    "np.diag(a)"
   ]
  },
  {
   "cell_type": "code",
   "execution_count": 31,
   "id": "52d8bb15-30ac-4b76-a3c5-3ff4c6b0d273",
   "metadata": {},
   "outputs": [
    {
     "data": {
      "text/plain": [
       "array([[ 1,  1,  1,  1],\n",
       "       [ 8,  4,  2,  1],\n",
       "       [27,  9,  3,  1],\n",
       "       [64, 16,  4,  1]])"
      ]
     },
     "execution_count": 31,
     "metadata": {},
     "output_type": "execute_result"
    }
   ],
   "source": [
    "# vander(x, n) defines a Vandermonde matrix as a 2D NumPy array.\n",
    "# Each column of the Vandermonde matrix is a decreasing power of the input 1D array or list or tuple,\n",
    "# x where the highest polynomial order is n-1\n",
    "\n",
    "np.vander([1,2,3,4], 4)\n"
   ]
  },
  {
   "cell_type": "code",
   "execution_count": 34,
   "id": "939434b0-fa8c-4317-8f46-eca93bc4785e",
   "metadata": {},
   "outputs": [
    {
     "data": {
      "text/plain": [
       "array([[[0, 0, 0],\n",
       "        [1, 1, 1],\n",
       "        [2, 2, 2]],\n",
       "\n",
       "       [[0, 1, 2],\n",
       "        [0, 1, 2],\n",
       "        [0, 1, 2]]])"
      ]
     },
     "execution_count": 34,
     "metadata": {},
     "output_type": "execute_result"
    }
   ],
   "source": [
    "np.indices((3,3))"
   ]
  },
  {
   "cell_type": "markdown",
   "id": "f8866b2c-881d-466d-9f8c-fb33feb1d17f",
   "metadata": {},
   "source": [
    "### Array Attributes"
   ]
  },
  {
   "cell_type": "code",
   "execution_count": 40,
   "id": "45fe24c0-6b8e-45ed-84d8-9bfc2ffc8150",
   "metadata": {},
   "outputs": [
    {
     "name": "stdout",
     "output_type": "stream",
     "text": [
      "[[[0 1]\n",
      "  [2 3]]\n",
      "\n",
      " [[4 5]\n",
      "  [6 7]]]\n"
     ]
    }
   ],
   "source": [
    "a = np.arange(8, dtype = np.int8).reshape(2,2,2)\n",
    "print(a)"
   ]
  },
  {
   "cell_type": "code",
   "execution_count": 37,
   "id": "998128c6-8fed-4d84-b48a-3c076c9fc6d3",
   "metadata": {},
   "outputs": [
    {
     "data": {
      "text/plain": [
       "3"
      ]
     },
     "execution_count": 37,
     "metadata": {},
     "output_type": "execute_result"
    }
   ],
   "source": [
    "a.ndim"
   ]
  },
  {
   "cell_type": "code",
   "execution_count": 38,
   "id": "8e039bda-048d-4f1e-8376-deb848b659a9",
   "metadata": {},
   "outputs": [
    {
     "data": {
      "text/plain": [
       "(2, 2, 2)"
      ]
     },
     "execution_count": 38,
     "metadata": {},
     "output_type": "execute_result"
    }
   ],
   "source": [
    "a.shape"
   ]
  },
  {
   "cell_type": "code",
   "execution_count": 41,
   "id": "c976e9f7-1a11-49e9-8a3d-6a1bbc0dba16",
   "metadata": {},
   "outputs": [
    {
     "data": {
      "text/plain": [
       "dtype('int8')"
      ]
     },
     "execution_count": 41,
     "metadata": {},
     "output_type": "execute_result"
    }
   ],
   "source": [
    "a.dtype"
   ]
  },
  {
   "cell_type": "code",
   "execution_count": 42,
   "id": "284fa3d7-2f9e-4ac8-b718-3c6bbfe19e20",
   "metadata": {},
   "outputs": [
    {
     "data": {
      "text/plain": [
       "8"
      ]
     },
     "execution_count": 42,
     "metadata": {},
     "output_type": "execute_result"
    }
   ],
   "source": [
    "a.size"
   ]
  },
  {
   "cell_type": "code",
   "execution_count": 43,
   "id": "95f98dfd-5ce5-4a6b-9783-13d9e0db60f6",
   "metadata": {},
   "outputs": [
    {
     "data": {
      "text/plain": [
       "1"
      ]
     },
     "execution_count": 43,
     "metadata": {},
     "output_type": "execute_result"
    }
   ],
   "source": [
    "a.itemsize"
   ]
  },
  {
   "cell_type": "markdown",
   "id": "066f7828-90de-45a3-8dc6-8e96e909e873",
   "metadata": {},
   "source": [
    "### Changing Data Type"
   ]
  },
  {
   "cell_type": "code",
   "execution_count": 47,
   "id": "3543c967-3f66-4c5a-aec2-b4362f7ad043",
   "metadata": {},
   "outputs": [
    {
     "data": {
      "text/plain": [
       "array([[[0, 1],\n",
       "        [2, 3]],\n",
       "\n",
       "       [[4, 5],\n",
       "        [6, 7]]])"
      ]
     },
     "execution_count": 47,
     "metadata": {},
     "output_type": "execute_result"
    }
   ],
   "source": [
    "a = a.astype(np.int32)\n",
    "a"
   ]
  },
  {
   "cell_type": "code",
   "execution_count": 48,
   "id": "8a4434db-0939-448d-aafc-7124ea51b6ae",
   "metadata": {},
   "outputs": [
    {
     "data": {
      "text/plain": [
       "dtype('int32')"
      ]
     },
     "execution_count": 48,
     "metadata": {},
     "output_type": "execute_result"
    }
   ],
   "source": [
    "a.dtype"
   ]
  },
  {
   "cell_type": "code",
   "execution_count": 49,
   "id": "1b7a33d2-cef8-45dc-81dc-9ea2c56da54c",
   "metadata": {},
   "outputs": [
    {
     "data": {
      "text/plain": [
       "4"
      ]
     },
     "execution_count": 49,
     "metadata": {},
     "output_type": "execute_result"
    }
   ],
   "source": [
    "a.itemsize"
   ]
  },
  {
   "cell_type": "code",
   "execution_count": 50,
   "id": "c503bbc7-be67-46cc-a103-b3a428bb7372",
   "metadata": {},
   "outputs": [
    {
     "data": {
      "text/plain": [
       "8"
      ]
     },
     "execution_count": 50,
     "metadata": {},
     "output_type": "execute_result"
    }
   ],
   "source": [
    "a.size"
   ]
  },
  {
   "cell_type": "markdown",
   "id": "2ca653fc-7d8b-496e-a0b4-ab5ad3c85dbc",
   "metadata": {},
   "source": [
    "### Array Operations"
   ]
  },
  {
   "cell_type": "code",
   "execution_count": 52,
   "id": "527fc25d-ca12-40ee-8fdb-1c08bc4dfd64",
   "metadata": {},
   "outputs": [
    {
     "data": {
      "text/plain": [
       "array([[ 9, 10, 11],\n",
       "       [12, 13, 14],\n",
       "       [15, 16, 17]])"
      ]
     },
     "execution_count": 52,
     "metadata": {},
     "output_type": "execute_result"
    }
   ],
   "source": [
    "a1 = np.arange(9).reshape(3,3)\n",
    "a2 = np.arange(9,18).reshape(3,3)\n",
    "\n",
    "a2"
   ]
  },
  {
   "cell_type": "code",
   "execution_count": null,
   "id": "6cc51035-7a00-4572-b1b9-96e45b4991c1",
   "metadata": {},
   "outputs": [],
   "source": [
    " # Operations\n",
    " # +\n",
    " # -\n",
    " # *\n",
    " # /\n",
    " # **"
   ]
  },
  {
   "cell_type": "code",
   "execution_count": 58,
   "id": "0bb05564-4cd6-4f90-b282-185da2524375",
   "metadata": {},
   "outputs": [
    {
     "data": {
      "text/plain": [
       "array([[ 2,  3,  4],\n",
       "       [ 5,  6,  7],\n",
       "       [ 8,  9, 10]])"
      ]
     },
     "execution_count": 58,
     "metadata": {},
     "output_type": "execute_result"
    }
   ],
   "source": [
    "# Scalar operations - Operation on array with a scalar(number).\n",
    "a1 + 2\n",
    "# a1 - 1\n",
    "# a1 * 2\n",
    "# a1 / 2\n",
    "# a1 ** 2"
   ]
  },
  {
   "cell_type": "code",
   "execution_count": 65,
   "id": "728d0a9f-8cb8-4961-bc83-2b041fe73d4a",
   "metadata": {},
   "outputs": [
    {
     "data": {
      "text/plain": [
       "array([[False, False, False],\n",
       "       [False, False, False],\n",
       "       [False, False, False]])"
      ]
     },
     "execution_count": 65,
     "metadata": {},
     "output_type": "execute_result"
    }
   ],
   "source": [
    "# Relational\n",
    "# ==, !=, >, <, >=, <=\n",
    "a1 == a2\n",
    "# a1 != a2\n",
    "# a1 >= a2\n",
    "# a1 > a2\n",
    "# a1 <= a2\n",
    "# a1 < a2"
   ]
  },
  {
   "cell_type": "code",
   "execution_count": 70,
   "id": "e962587b-c865-44ac-9b75-6f0e02c4ce99",
   "metadata": {},
   "outputs": [
    {
     "data": {
      "text/plain": [
       "array([[ 9, 11, 13],\n",
       "       [15, 17, 19],\n",
       "       [21, 23, 25]])"
      ]
     },
     "execution_count": 70,
     "metadata": {},
     "output_type": "execute_result"
    }
   ],
   "source": [
    "# vector operations - operations on two vectors\n",
    "a1 + a2\n",
    "# a1 * a2\n",
    "# a1 ** a2"
   ]
  },
  {
   "cell_type": "code",
   "execution_count": null,
   "id": "d4e7f864-09c7-4aa2-8da2-4b5b9d7f690a",
   "metadata": {},
   "outputs": [],
   "source": []
  }
 ],
 "metadata": {
  "kernelspec": {
   "display_name": "Python 3 (ipykernel)",
   "language": "python",
   "name": "python3"
  },
  "language_info": {
   "codemirror_mode": {
    "name": "ipython",
    "version": 3
   },
   "file_extension": ".py",
   "mimetype": "text/x-python",
   "name": "python",
   "nbconvert_exporter": "python",
   "pygments_lexer": "ipython3",
   "version": "3.12.2"
  }
 },
 "nbformat": 4,
 "nbformat_minor": 5
}
