{
 "cells": [
  {
   "cell_type": "code",
   "execution_count": 1,
   "id": "7d3f988d-c49a-4e96-a242-de839f1b5c00",
   "metadata": {},
   "outputs": [],
   "source": [
    "# importing Library\n",
    "\n",
    "import numpy as np"
   ]
  },
  {
   "cell_type": "markdown",
   "id": "d5939abf-65ed-481a-919e-3210ac81a142",
   "metadata": {},
   "source": [
    "There are 6 ways to create arrays in numpy\n",
    "1. Conversion from other Python structures (i.e. lists and tuples)\n",
    "2. Intrinsic NumPy array creation functions (e.g. arange, ones, zeros, etc.)\n",
    "3. Replicating, joining, or mutating existing arrays\n",
    "4. Reading arrays from disk, either from standard or custom formats\n",
    "5. Creating arrays from raw bytes through the use of strings or buffers\n",
    "6. Use of special library functions (e.g., random)"
   ]
  },
  {
   "cell_type": "markdown",
   "id": "271dda50-0362-485d-8c69-17529b475095",
   "metadata": {},
   "source": [
    "Conversion from other Python structures (i.e. lists and tuples)"
   ]
  },
  {
   "cell_type": "code",
   "execution_count": 4,
   "id": "66216e61-394c-4519-8a7d-8f657e4fbd52",
   "metadata": {},
   "outputs": [
    {
     "name": "stdout",
     "output_type": "stream",
     "text": [
      "[[[1 2]\n",
      "  [3 4]]\n",
      "\n",
      " [[5 6]\n",
      "  [7 8]]]\n"
     ]
    }
   ],
   "source": [
    "a = np.array([1,2,3])   # 1D\n",
    "b = np.array([[1,2,3], [4,5,6]])   # 2D\n",
    "c = np.array([[[1,2], [3,4]], [[5,6],[7,8]]])   # 3D\n",
    "# print(a)\n",
    "# print(b)\n",
    "print(c)"
   ]
  },
  {
   "cell_type": "code",
   "execution_count": 6,
   "id": "8f48a9de-a871-4ed4-bf47-9cf8e37755b1",
   "metadata": {},
   "outputs": [
    {
     "name": "stdout",
     "output_type": "stream",
     "text": [
      "[22. 33. 56.]\n"
     ]
    }
   ],
   "source": [
    "a = np.array((22,33,56), dtype = float)\n",
    "print(a)"
   ]
  },
  {
   "cell_type": "markdown",
   "id": "249cf2d5-371e-41f1-9ccf-f404d34b3a2a",
   "metadata": {},
   "source": [
    "Intrinsic NumPy array creation functions (e.g. arange, ones, zeros, etc.)"
   ]
  },
  {
   "cell_type": "code",
   "execution_count": 9,
   "id": "b6345bbc-f020-4991-b9db-1103a706170a",
   "metadata": {},
   "outputs": [
    {
     "data": {
      "text/plain": [
       "array([ 0,  2,  4,  6,  8, 10])"
      ]
     },
     "execution_count": 9,
     "metadata": {},
     "output_type": "execute_result"
    }
   ],
   "source": [
    "# arange creates array with regularly incrementing values\n",
    "a = np.arange(0,11,2)\n",
    "a"
   ]
  },
  {
   "cell_type": "code",
   "execution_count": 12,
   "id": "53caebcb-0407-4fd2-94e2-7bb2aa1af1a2",
   "metadata": {},
   "outputs": [
    {
     "name": "stdout",
     "output_type": "stream",
     "text": [
      "[[ 0  2]\n",
      " [ 4  6]\n",
      " [ 8 10]]\n"
     ]
    }
   ],
   "source": [
    "#reshape changes the dimensions\n",
    "a = a.reshape((3,2))\n",
    "print(a)"
   ]
  },
  {
   "cell_type": "code",
   "execution_count": 14,
   "id": "7b7e8361-9d1a-4985-aea2-8ab55ae88dec",
   "metadata": {
    "scrolled": true
   },
   "outputs": [
    {
     "data": {
      "text/plain": [
       "array([[[0, 1],\n",
       "        [2, 3]],\n",
       "\n",
       "       [[4, 5],\n",
       "        [6, 7]]])"
      ]
     },
     "execution_count": 14,
     "metadata": {},
     "output_type": "execute_result"
    }
   ],
   "source": [
    "np.arange(8).reshape(2,2,2)"
   ]
  },
  {
   "cell_type": "code",
   "execution_count": 17,
   "id": "b2ee78b2-6355-4f9c-a742-8f211db30c35",
   "metadata": {},
   "outputs": [
    {
     "data": {
      "text/plain": [
       "array([[1., 1., 1.],\n",
       "       [1., 1., 1.],\n",
       "       [1., 1., 1.]])"
      ]
     },
     "execution_count": 17,
     "metadata": {},
     "output_type": "execute_result"
    }
   ],
   "source": [
    "# ones creates array with ones\n",
    "a = np.ones((3,3))\n",
    "a"
   ]
  },
  {
   "cell_type": "code",
   "execution_count": 23,
   "id": "d4b1e102-f76a-4c62-9edc-786f147d9390",
   "metadata": {},
   "outputs": [
    {
     "name": "stdout",
     "output_type": "stream",
     "text": [
      "[[1 1 1]\n",
      " [1 1 1]\n",
      " [1 1 1]]\n"
     ]
    }
   ],
   "source": [
    "a = np.ones((3,3), dtype = np.int8)\n",
    "print(a)"
   ]
  },
  {
   "cell_type": "code",
   "execution_count": 28,
   "id": "98fba474-2c92-4231-b499-f6298de82a7f",
   "metadata": {},
   "outputs": [
    {
     "data": {
      "text/plain": [
       "array([0, 0, 0, 0, 0], dtype=int16)"
      ]
     },
     "execution_count": 28,
     "metadata": {},
     "output_type": "execute_result"
    }
   ],
   "source": [
    "a = np.zeros((5,), dtype = np.int16)\n",
    "a"
   ]
  },
  {
   "cell_type": "code",
   "execution_count": 30,
   "id": "a140853d-5dda-4974-8161-e160cccd1d59",
   "metadata": {},
   "outputs": [
    {
     "data": {
      "text/plain": [
       "array([[0.57849187, 0.77223192, 0.85018043],\n",
       "       [0.66871329, 0.24011239, 0.97635672],\n",
       "       [0.37246362, 0.33143244, 0.73873809]])"
      ]
     },
     "execution_count": 30,
     "metadata": {},
     "output_type": "execute_result"
    }
   ],
   "source": [
    "a = np.random.random((3,3))\n",
    "a"
   ]
  },
  {
   "cell_type": "code",
   "execution_count": 35,
   "id": "64e5ed0a-842f-40a6-86f4-f9bbde576847",
   "metadata": {},
   "outputs": [
    {
     "data": {
      "text/plain": [
       "array([[72, 16,  8],\n",
       "       [28, 41, 98],\n",
       "       [96, 35, 19]])"
      ]
     },
     "execution_count": 35,
     "metadata": {},
     "output_type": "execute_result"
    }
   ],
   "source": [
    "# Creating random array of integers\n",
    "a = np.random.random((3,3))*100\n",
    "a = a.astype(np.int32)\n",
    "a"
   ]
  },
  {
   "cell_type": "markdown",
   "id": "870290b5-3118-4ea8-9409-ea6e9e4ad947",
   "metadata": {},
   "source": [
    "linspace will create arrays with a specified number of elements, and spaced equally between the specified beginning and end values"
   ]
  }
 ],
 "metadata": {
  "kernelspec": {
   "display_name": "Python 3 (ipykernel)",
   "language": "python",
   "name": "python3"
  },
  "language_info": {
   "codemirror_mode": {
    "name": "ipython",
    "version": 3
   },
   "file_extension": ".py",
   "mimetype": "text/x-python",
   "name": "python",
   "nbconvert_exporter": "python",
   "pygments_lexer": "ipython3",
   "version": "3.12.2"
  }
 },
 "nbformat": 4,
 "nbformat_minor": 5
}
